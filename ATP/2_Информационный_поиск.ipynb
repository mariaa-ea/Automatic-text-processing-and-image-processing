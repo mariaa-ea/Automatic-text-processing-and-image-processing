{
  "cells": [
    {
      "cell_type": "markdown",
      "metadata": {
        "id": "Vd_ST0GfO97y"
      },
      "source": [
        "# Информационный поиск\n",
        "\n",
        "Скачиваем классический набор данных -- набор текстов об аэронавтике CRANFIELD:"
      ]
    },
    {
      "cell_type": "code",
      "execution_count": 1,
      "metadata": {
        "colab": {
          "base_uri": "https://localhost:8080/"
        },
        "id": "AHflLH2APAHK",
        "outputId": "cd0f3fc8-4aa1-4511-cee7-389fd30e5d3a"
      },
      "outputs": [
        {
          "output_type": "stream",
          "name": "stdout",
          "text": [
            "cran.all.1400\n",
            "cran.qry\n",
            "cranqrel\n",
            "cranqrel.readme\n"
          ]
        }
      ],
      "source": [
        "! wget -q http://ir.dcs.gla.ac.uk/resources/test_collections/cran/cran.tar.gz\n",
        "! tar -xvf cran.tar.gz\n",
        "! rm cran.tar.gz*"
      ]
    },
    {
      "cell_type": "markdown",
      "metadata": {
        "id": "zYuND83cPR5D"
      },
      "source": [
        "Берём только сами запросы (это будут наши документы):"
      ]
    },
    {
      "cell_type": "code",
      "execution_count": 2,
      "metadata": {
        "colab": {
          "base_uri": "https://localhost:8080/"
        },
        "id": "6owW-L7zhJws",
        "outputId": "ea5304d7-baea-474c-a288-1723b2a5c4a9"
      },
      "outputs": [
        {
          "output_type": "stream",
          "name": "stdout",
          "text": [
            "what similarity laws must be obeyed when constructing aeroelastic models\r\n",
            "of heated high speed aircraft .\r\n",
            "what are the structural and aeroelastic problems associated with flight\r\n"
          ]
        }
      ],
      "source": [
        "! grep -v \"^\\.\" cran.qry > just.qry\n",
        "! head -3 just.qry"
      ]
    },
    {
      "cell_type": "markdown",
      "metadata": {
        "id": "8ZbUb6FmQxr1"
      },
      "source": [
        "Объединяем многострочные в один:"
      ]
    },
    {
      "cell_type": "code",
      "execution_count": 3,
      "metadata": {
        "colab": {
          "base_uri": "https://localhost:8080/"
        },
        "id": "SBaV3xeQiUam",
        "outputId": "c83233ff-9274-4280-c07e-a2848280a2b3"
      },
      "outputs": [
        {
          "output_type": "execute_result",
          "data": {
            "text/plain": [
              "['what similarity laws must be obeyed when constructing aeroelastic models of heated high speed aircraft . ',\n",
              " 'what are the structural and aeroelastic problems associated with flight of high speed aircraft . ']"
            ]
          },
          "metadata": {},
          "execution_count": 3
        }
      ],
      "source": [
        "raw_query_data = [line.strip() for line in open(\"just.qry\", \"r\").readlines()]\n",
        "query_data = [\"\"]\n",
        "\n",
        "for query_part in raw_query_data:\n",
        "  query_data[-1] += query_part + \" \"\n",
        "  if query_part.endswith(\".\"):\n",
        "    query_data.append(\"\")\n",
        "\n",
        "query_data[:2] #Выведем пару документов для примера"
      ]
    },
    {
      "cell_type": "markdown",
      "metadata": {
        "id": "nLFq_6lBki3S"
      },
      "source": [
        "Составим запросы к нашим документам:"
      ]
    },
    {
      "cell_type": "code",
      "execution_count": 4,
      "metadata": {
        "id": "h3sgHjWkjjR1"
      },
      "outputs": [],
      "source": [
        "QUERIES = ['theory of bending', 'aeroelastic effects']"
      ]
    },
    {
      "cell_type": "markdown",
      "metadata": {
        "id": "hQMdH0HSkoJg"
      },
      "source": [
        "## Boolean retrieval\n",
        "Представим каждый документ как \"битовую маску\": вектор размером со словарь, в котором на каждой позиции единица, если в документе есть соответсвующий терм, и ноль, если терма нет:"
      ]
    },
    {
      "cell_type": "code",
      "execution_count": 5,
      "metadata": {
        "colab": {
          "base_uri": "https://localhost:8080/"
        },
        "id": "lhrI18rZSLLz",
        "outputId": "9834d707-d0b8-459d-cab1-fa003651d5b7"
      },
      "outputs": [
        {
          "output_type": "stream",
          "name": "stdout",
          "text": [
            "\u001b[2K     \u001b[90m━━━━━━━━━━━━━━━━━━━━━━━━━━━━━━━━━━━━━━━━\u001b[0m \u001b[32m6.9/6.9 MB\u001b[0m \u001b[31m16.6 MB/s\u001b[0m eta \u001b[36m0:00:00\u001b[0m\n",
            "\u001b[?25h  Preparing metadata (setup.py) ... \u001b[?25l\u001b[?25hdone\n",
            "  \u001b[1;31merror\u001b[0m: \u001b[1msubprocess-exited-with-error\u001b[0m\n",
            "  \n",
            "  \u001b[31m×\u001b[0m \u001b[32mpython setup.py bdist_wheel\u001b[0m did not run successfully.\n",
            "  \u001b[31m│\u001b[0m exit code: \u001b[1;36m1\u001b[0m\n",
            "  \u001b[31m╰─>\u001b[0m See above for output.\n",
            "  \n",
            "  \u001b[1;35mnote\u001b[0m: This error originates from a subprocess, and is likely not a problem with pip.\n",
            "  Building wheel for scikit-learn (setup.py) ... \u001b[?25lerror\n",
            "\u001b[31m  ERROR: Failed building wheel for scikit-learn\u001b[0m\u001b[31m\n",
            "\u001b[0m\u001b[31mERROR: Could not build wheels for scikit-learn, which is required to install pyproject.toml-based projects\u001b[0m\u001b[31m\n",
            "\u001b[0m\u001b[?25h"
          ]
        }
      ],
      "source": [
        "# В разных версиях ответы могут отличаться, поэтому важно иметь одну и ту же\n",
        "! pip install -q scikit-learn==0.22.2.post1"
      ]
    },
    {
      "cell_type": "code",
      "execution_count": 6,
      "metadata": {
        "id": "DbTOdsHIknD0"
      },
      "outputs": [],
      "source": [
        "from  sklearn.feature_extraction.text import CountVectorizer"
      ]
    },
    {
      "cell_type": "code",
      "source": [
        "encoder = CountVectorizer(binary=True)\n",
        "encoded_data = encoder.fit_transform(query_data)\n",
        "encoded_queries = encoder.transform(QUERIES)\n",
        "list(encoder.vocabulary_)[:3]"
      ],
      "metadata": {
        "colab": {
          "base_uri": "https://localhost:8080/"
        },
        "id": "CUK9heh-9dvh",
        "outputId": "0c6ee331-005d-4bfc-9a7f-d4fa35994928"
      },
      "execution_count": 7,
      "outputs": [
        {
          "output_type": "execute_result",
          "data": {
            "text/plain": [
              "['what', 'similarity', 'laws']"
            ]
          },
          "metadata": {},
          "execution_count": 7
        }
      ]
    },
    {
      "cell_type": "markdown",
      "metadata": {
        "id": "oUdwKDKSTjdD"
      },
      "source": [
        "Посмотрим на представление первого предложения:"
      ]
    },
    {
      "cell_type": "code",
      "execution_count": 8,
      "metadata": {
        "colab": {
          "base_uri": "https://localhost:8080/"
        },
        "id": "oXEmXErylJdX",
        "outputId": "4e6de097-6e97-46ac-a069-d090773280aa"
      },
      "outputs": [
        {
          "output_type": "execute_result",
          "data": {
            "text/plain": [
              "['what',\n",
              " 'similarity',\n",
              " 'laws',\n",
              " 'must',\n",
              " 'be',\n",
              " 'obeyed',\n",
              " 'when',\n",
              " 'constructing',\n",
              " 'aeroelastic',\n",
              " 'models',\n",
              " 'of',\n",
              " 'heated',\n",
              " 'high',\n",
              " 'speed',\n",
              " 'aircraft']"
            ]
          },
          "metadata": {},
          "execution_count": 8
        }
      ],
      "source": [
        "id2term = {idx: term for term, idx in encoder.vocabulary_.items()}\n",
        "non_zero_values_ids = encoded_data[0].nonzero()[1]\n",
        "\n",
        "terms = [id2term[idx] for idx in non_zero_values_ids]\n",
        "terms"
      ]
    },
    {
      "cell_type": "markdown",
      "metadata": {
        "id": "l8wdS9XiVwb2"
      },
      "source": [
        "Всё так.\n",
        "\n",
        "## Задание 0\n",
        "\n",
        "Теперь для каждого из данных запросов `QUERIES` найдём ближайший для него документ из `query_data` по сходству Жаккара. Есть более эффективные способы это сделать, но вам требуется реализовать расстояние Жаккара и далее применить его к нашим данным:"
      ]
    },
    {
      "cell_type": "code",
      "execution_count": 9,
      "metadata": {
        "id": "u31WuBYAUWt2"
      },
      "outputs": [],
      "source": [
        "import numpy as np\n",
        "\n",
        "def jaccard_sim(vector_a: np.array, vector_b: np.array) -> float:\n",
        "    \"\"\"\n",
        "    Сходство или коэффициент Жаккара: отношение мощности пересечения\n",
        "    к мощности объединения\n",
        "    \"\"\"\n",
        "    intersection = np.logical_and(vector_a, vector_b).sum()\n",
        "    union = np.logical_or(vector_a, vector_b).sum()\n",
        "\n",
        "    return intersection / union\n",
        "\n",
        "#Проверка, что функция работает правильно\n",
        "assert jaccard_sim(np.array([1, 0, 1, 0, 1]), np.array([0, 1, 1, 1, 1])) == 0.4"
      ]
    },
    {
      "cell_type": "markdown",
      "metadata": {
        "id": "4bJssvjY9J-e"
      },
      "source": [
        "Здесь документы представлены так же, как строки в матрице термов-документов. Каждая ячейка вектора отвечает за наличие/отсутствие конкретного элемента (например, слова-терма, когда у нас в словаре всего 5 слов). В первом случае их три, во втором — четыре. Объединение — все пять возможных элементов. Пересечение — два. Отсюда и 0.4."
      ]
    },
    {
      "cell_type": "markdown",
      "metadata": {
        "id": "dYfQksWrOR1G"
      },
      "source": [
        "## Задание 1\n",
        "Теперь с помощью кода ниже вычислите для каждого запроса самые близкие документы:"
      ]
    },
    {
      "cell_type": "code",
      "execution_count": 10,
      "metadata": {
        "colab": {
          "base_uri": "https://localhost:8080/"
        },
        "id": "4okpFpA6OAQs",
        "outputId": "9ede68d6-e375-4562-fb42-fbdd89b5096b"
      },
      "outputs": [
        {
          "output_type": "stream",
          "name": "stdout",
          "text": [
            "Q: theory of bending\n",
            "FOUND:\n",
            "    42\t0.20\twhat are the details of the rigorous kinetic theory of gases . \n",
            "    43\t0.20\t(chapman-enskog theory) . \n",
            "    146\t0.19\tdoes a membrane theory exist by which the behaviour of pressurized membrane cylinders in bending can be predicted . \n",
            "Q: aeroelastic effects\n",
            "FOUND:\n",
            "    196\t0.14\tthe problem of similarity for representative investigation of aeroelastic effects in a flow with the absence of heating effects . \n",
            "    204\t0.12\tdo viscous effects seriously modify pressure distributions . \n",
            "    114\t0.12\tis the problem of similarity for representative investigations of aeroelastic effects in heated flow as intractable as previous investigations imply . \n"
          ]
        }
      ],
      "source": [
        "for q_id, query in enumerate(encoded_queries):\n",
        "    # Приводим к нужному типу\n",
        "    query = query.todense().A1\n",
        "    docs = [doc.todense().A1 for doc in encoded_data]\n",
        "    # Вычисляем коэфф. Жаккара\n",
        "    id2doc2similarity = [(doc_id, doc, jaccard_sim(query, doc)) for doc_id, doc in enumerate(docs)]\n",
        "    # Сортируем по нему\n",
        "    closest = sorted(id2doc2similarity, key=lambda x: x[2], reverse=True)\n",
        "\n",
        "    print(\"Q: %s\\nFOUND:\" % QUERIES[q_id])\n",
        "    # Выводим по 3 наиболее близких документа для каждого запроса\n",
        "    for closest_id, _, sim in closest[:3]:\n",
        "        print(\"    %d\\t%.2f\\t%s\" %(closest_id, sim, query_data[closest_id]))"
      ]
    },
    {
      "cell_type": "markdown",
      "metadata": {
        "id": "A1Fh8RdvOrAD"
      },
      "source": [
        "Видим, что кое-где просачиваются  тексты, которых с запросами объединяют малозначительные термы, но при этом коэффициент Жаккара — наша функция ранжирования! — высок.\n",
        "\n",
        "# VSM\n",
        "\n",
        "Попробуем теперь сделать то же, но с tf-idf и косинусным расстоянием. Мы сделаем всё опять \"руками\", но \"в реальной жизни\" лучше использоватьесть эффективные реализации cosine distance, например, из библиотеки scipy:"
      ]
    },
    {
      "cell_type": "code",
      "source": [
        "from  sklearn.feature_extraction.text import TfidfVectorizer"
      ],
      "metadata": {
        "id": "ULIs53BJExJ_"
      },
      "execution_count": 11,
      "outputs": []
    },
    {
      "cell_type": "code",
      "execution_count": 12,
      "metadata": {
        "colab": {
          "base_uri": "https://localhost:8080/"
        },
        "id": "DmpKMI08E2iO",
        "outputId": "7300f733-1d62-4826-bda3-d39e4133d123"
      },
      "outputs": [
        {
          "output_type": "execute_result",
          "data": {
            "text/plain": [
              "['what', 'similarity', 'laws']"
            ]
          },
          "metadata": {},
          "execution_count": 12
        }
      ],
      "source": [
        "# Совет: обязательно разберитесь с тем, какие возможности\n",
        "# предоставляет tf-idf vectorizer, какие параметры за что отвечают\n",
        "\n",
        "tfidf_encoder = TfidfVectorizer()\n",
        "tfidf_encoded_data = tfidf_encoder.fit_transform(query_data)\n",
        "tfidf_encoded_queries = tfidf_encoder.transform(QUERIES)\n",
        "\n",
        "list(tfidf_encoder.vocabulary_)[:3]"
      ]
    },
    {
      "cell_type": "markdown",
      "metadata": {
        "id": "hHTzIjfNRHj2"
      },
      "source": [
        "## Задание 2\n",
        "Реализовать косинусное расстояние:"
      ]
    },
    {
      "cell_type": "code",
      "execution_count": 13,
      "metadata": {
        "id": "UCfgR6xEPeDn"
      },
      "outputs": [],
      "source": [
        "def cosine_distance(vector_a: np.array, vector_b: np.array) -> float:\n",
        "    \"\"\"\n",
        "    Косинусное расстояние: единица минус отношение скалярного произведения\n",
        "    на произведение L2-норм (подсказка: в numpy такие нормы есть)\n",
        "    \"\"\"\n",
        "    dot_product = np.dot(vector_a, vector_b)\n",
        "    norm_a = np.linalg.norm(vector_a)\n",
        "    norm_b = np.linalg.norm(vector_b)\n",
        "\n",
        "    if norm_a == 0 or norm_b == 0:\n",
        "        return np.nan  # Возвращаем NaN в случае нулевой нормы\n",
        "\n",
        "    return 1 - dot_product / (norm_a * norm_b)\n",
        "\n",
        "# Проверка, что функция работает правильно\n",
        "assert cosine_distance(np.array([1, 0, 1, 1, 1]), np.array([0, 0, 1, 0, 0])) == 0.5"
      ]
    },
    {
      "cell_type": "markdown",
      "metadata": {
        "id": "vJHsaHoORlEC"
      },
      "source": [
        "\n",
        "Теперь вычислим ближайшие по косинусному расстоянию между векторными представлениями документов и запросов:"
      ]
    },
    {
      "cell_type": "code",
      "execution_count": 14,
      "metadata": {
        "colab": {
          "base_uri": "https://localhost:8080/"
        },
        "id": "fIZJRBKQQR1G",
        "outputId": "09e04cb3-8835-472a-dc83-479a1813a565"
      },
      "outputs": [
        {
          "output_type": "stream",
          "name": "stdout",
          "text": [
            "Q: theory of bending\n",
            "FOUND:\n",
            "    145\t0.65\twhat are the best experimental data and classical small deflection theory analyses available for pressurized cylinders in bending . \n",
            "    146\t0.66\tdoes a membrane theory exist by which the behaviour of pressurized membrane cylinders in bending can be predicted . \n",
            "    111\t0.66\thas the solution of the clamped plate problem,  in the classical theory of bending,  been reduced to two successive membrane boundary value problems . \n",
            "Q: aeroelastic effects\n",
            "FOUND:\n",
            "    196\t0.51\tthe problem of similarity for representative investigation of aeroelastic effects in a flow with the absence of heating effects . \n",
            "    114\t0.70\tis the problem of similarity for representative investigations of aeroelastic effects in heated flow as intractable as previous investigations imply . \n",
            "    1\t0.74\twhat are the structural and aeroelastic problems associated with flight of high speed aircraft . \n"
          ]
        }
      ],
      "source": [
        "for q_id, query in enumerate(tfidf_encoded_queries):\n",
        "    # приводим к нужному типу\n",
        "    query = query.todense().A1\n",
        "    docs = [doc.todense().A1 for doc in tfidf_encoded_data]\n",
        "    # Косинусное расстояние\n",
        "    id2doc2similarity = [(doc_id, doc, cosine_distance(query, doc)) \\\n",
        "                        for doc_id, doc in enumerate(docs)]\n",
        "    # сортируем по нему\n",
        "    closest = sorted(id2doc2similarity, key=lambda x: x[2], reverse=False)\n",
        "\n",
        "    print(\"Q: %s\\nFOUND:\" % QUERIES[q_id])\n",
        "\n",
        "    for closest_id, _, sim in closest[:3]:\n",
        "        print(\"    %d\\t%.2f\\t%s\" %(closest_id, sim, query_data[closest_id]))"
      ]
    },
    {
      "cell_type": "markdown",
      "source": [
        "# Индивидуальное задание"
      ],
      "metadata": {
        "id": "7xomPN1mAxNF"
      }
    },
    {
      "cell_type": "markdown",
      "source": [
        "Используя в качестве документов тексты запросов из набора текстов об аэронавтике **CRANFIELD** (те же, что и в примере), найдите пару наиболее близких к указанному запросу документа.  \n",
        "<br>\n",
        "\n",
        "_Текст запроса:_ **aerodynamic problems**.  \n",
        "\n",
        "1. Введите индекс наиболее близкого документа согласно мере Жаккара.\n",
        "Введите целое неотрицательное число:\n",
        "    ```\n",
        "    4\n",
        "    ```  \n",
        "2. Введите значение коэффициента Жаккара для наиболее близкого документа. Десятичный разделитель точка. Ответ округлите до сотых:\n",
        "    ```\n",
        "    0.2\n",
        "    ```\n",
        "3. Введите индекс второго по близости документа согласно мере Жаккара.\n",
        "Введите целое неотрицательное число:\n",
        "    ```\n",
        "    108\n",
        "    ```\n",
        "4. Введите значение коэффициента Жаккара для второго по близости документа. Десятичный разделитель точка. Ответ округлите до сотых:\n",
        "    ```\n",
        "    0.17\n",
        "    ```\n",
        "  \n",
        "<br>\n",
        "\n",
        "_Текст запроса:_ **interference effects**.\n",
        "\n",
        "1. Введите индекс наиболее близкого документа относительно косинусного расстояния. Введите целое неотрицательное число:\n",
        "    ```\n",
        "    90\n",
        "    ```\n",
        "2. Введите значение косинусного расстояния для наиболее близкого документа. Десятичный разделитель точка. Ответ округлите до сотых:\n",
        "    ```\n",
        "    0.5\n",
        "    ```\n",
        "3. Введите индекс второго по близости документа относительно косинусного расстояния. Введите целое неотрицательное число:\n",
        "    ```\n",
        "    33\n",
        "    ```\n",
        "4. Введите значение косинусного расстояния для второго по близости документа. Десятичный разделитель точка. Ответ округлите до сотых:\n",
        "    ```\n",
        "    0.59\n",
        "    ```\n"
      ],
      "metadata": {
        "id": "Tadh5nDYA7Qy"
      }
    },
    {
      "cell_type": "markdown",
      "source": [
        "![image.png](data:image/png;base64,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)"
      ],
      "metadata": {
        "id": "3nT2BigfDsP1"
      }
    },
    {
      "cell_type": "code",
      "source": [
        "query = \"aerodynamic problems\"\n",
        "\n",
        "# Вычислим расстояние между запросом и каждым документом по мере Жаккара\n",
        "jaccard_sims = []\n",
        "for doc_data in query_data:\n",
        "    doc_vector = tfidf_encoder.transform([doc_data])\n",
        "    query_vector = tfidf_encoder.transform([query])\n",
        "    jaccard_similarity = jaccard_sim(doc_vector.toarray()[0], query_vector.toarray()[0])\n",
        "    jaccard_sims.append(jaccard_similarity)\n",
        "\n",
        "# Найдем индексы двух наиболее близких документов\n",
        "top_indices = np.argsort(jaccard_sims)[-2:]\n",
        "\n",
        "print(\"Индекс наиболее близкого документа:\", top_indices[-1])\n",
        "print(\"Значение коэффициента Жаккара для наиболее близкого документа:\", round(jaccard_sims[top_indices[-1]], 2))\n",
        "print(\"Индекс второго по близости документа:\", top_indices[-2])\n",
        "print(\"Значение коэффициента Жаккара для второго по близости документа:\", round(jaccard_sims[top_indices[-2]], 2))"
      ],
      "metadata": {
        "colab": {
          "base_uri": "https://localhost:8080/"
        },
        "id": "krA3V4zbAz0V",
        "outputId": "3ce6ee9f-fcfe-4537-e77b-48f81b8eea2a"
      },
      "execution_count": 15,
      "outputs": [
        {
          "output_type": "stream",
          "name": "stdout",
          "text": [
            "Индекс наиболее близкого документа: 4\n",
            "Значение коэффициента Жаккара для наиболее близкого документа: 0.2\n",
            "Индекс второго по близости документа: 108\n",
            "Значение коэффициента Жаккара для второго по близости документа: 0.17\n"
          ]
        }
      ]
    },
    {
      "cell_type": "code",
      "source": [
        "query = \"interference effects\"\n",
        "\n",
        "# Вычислим расстояние между запросом и каждым документом по косинусному расстоянию\n",
        "cosine_distances = []\n",
        "for doc_data in query_data:\n",
        "    doc_vector = tfidf_encoder.transform([doc_data])\n",
        "    query_vector = tfidf_encoder.transform([query])\n",
        "    cosine_dist = cosine_distance(doc_vector.toarray()[0], query_vector.toarray()[0])\n",
        "    cosine_distances.append(cosine_dist)\n",
        "\n",
        "top_indices = np.argsort(cosine_distances)[:2]\n",
        "\n",
        "print(\"Индекс наиболее близкого документа:\", top_indices[0])\n",
        "print(\"Значение косинусного расстояния для наиболее близкого документа:\", round(cosine_distances[top_indices[0]], 2))\n",
        "print(\"Индекс второго по близости документа:\", top_indices[1])\n",
        "print(\"Значение косинусного расстояния для второго по близости документа:\", round(cosine_distances[top_indices[1]], 2))"
      ],
      "metadata": {
        "colab": {
          "base_uri": "https://localhost:8080/"
        },
        "id": "KXecDHI_Az9e",
        "outputId": "bbba8761-8892-4478-9173-adb260438c15"
      },
      "execution_count": 16,
      "outputs": [
        {
          "output_type": "stream",
          "name": "stdout",
          "text": [
            "Индекс наиболее близкого документа: 90\n",
            "Значение косинусного расстояния для наиболее близкого документа: 0.5\n",
            "Индекс второго по близости документа: 33\n",
            "Значение косинусного расстояния для второго по близости документа: 0.59\n"
          ]
        }
      ]
    }
  ],
  "metadata": {
    "colab": {
      "provenance": [],
      "toc_visible": true
    },
    "kernelspec": {
      "display_name": "Python 3",
      "language": "python",
      "name": "python3"
    },
    "language_info": {
      "codemirror_mode": {
        "name": "ipython",
        "version": 3
      },
      "file_extension": ".py",
      "mimetype": "text/x-python",
      "name": "python",
      "nbconvert_exporter": "python",
      "pygments_lexer": "ipython3",
      "version": "3.7.6"
    }
  },
  "nbformat": 4,
  "nbformat_minor": 0
}