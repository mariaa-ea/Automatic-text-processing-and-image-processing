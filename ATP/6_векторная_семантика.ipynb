{
  "cells": [
    {
      "cell_type": "markdown",
      "metadata": {
        "id": "LQp47ajD2Ga4"
      },
      "source": [
        "# Знакомство с word2vec\n"
      ]
    },
    {
      "cell_type": "markdown",
      "metadata": {
        "id": "c_Pat15ls9N8"
      },
      "source": [
        "## Загрузка модели\n",
        "Скачаем модель <code>google-news-vectors</code>. Откроем ее с помощью библиотеки <code>gensim</code>."
      ]
    },
    {
      "cell_type": "code",
      "execution_count": 1,
      "metadata": {
        "id": "nd-xNyAGy1tT",
        "colab": {
          "base_uri": "https://localhost:8080/"
        },
        "outputId": "26787950-bdf8-4447-b282-ac500125bb2d"
      },
      "outputs": [
        {
          "output_type": "stream",
          "name": "stdout",
          "text": [
            "Skipping, found downloaded files in \"./googlenewsvectorsnegative300\" (use force=True to force download)\n"
          ]
        }
      ],
      "source": [
        "!pip install -q -U gensim\n",
        "!pip install -q opendatasets\n",
        "import opendatasets as od\n",
        "import pandas\n",
        "\n",
        "od.download(\"https://www.kaggle.com/datasets/leadbest/googlenewsvectorsnegative300\")\n",
        "\n",
        "# Для быстрой загрузки данных следует ввест логин и токен с Kaggle\n",
        "# либо убрать последнюю строку загружать файл локально в колаб (долго)"
      ]
    },
    {
      "cell_type": "code",
      "execution_count": 2,
      "metadata": {
        "id": "-4xfcycMynhZ"
      },
      "outputs": [],
      "source": [
        "import warnings\n",
        "warnings.filterwarnings('ignore')\n",
        "\n",
        "import gensim\n",
        "from gensim.models import KeyedVectors\n",
        "\n",
        "w = KeyedVectors.load_word2vec_format(\"/content/googlenewsvectorsnegative300/GoogleNews-vectors-negative300.bin\",\n",
        "                                      binary=True)"
      ]
    },
    {
      "cell_type": "markdown",
      "metadata": {
        "id": "O6JtQjaORfzA"
      },
      "source": [
        "Структура называется <code>KeyedVectors</code> и по сути представляет собой отображение между ключами и векторами. Каждый вектор идентифицируется своим ключом поиска, чаще всего коротким строковым токеном, поэтому обычно это соответствие между\n",
        "\n",
        "<center><code>{str => 1D numpy array}</code></center><br/>\n",
        "\n",
        "\n",
        "\n",
        "Например, выведем первые 10 координат вектора, соответствующего слову <code>sunrise</code>"
      ]
    },
    {
      "cell_type": "code",
      "execution_count": 3,
      "metadata": {
        "colab": {
          "base_uri": "https://localhost:8080/"
        },
        "id": "Ol9DuE6VRfzH",
        "outputId": "b56b38fe-68a2-4c25-8dbc-863b4b8c7a2e"
      },
      "outputs": [
        {
          "output_type": "stream",
          "name": "stdout",
          "text": [
            "Размерность вектора:  (300,)\n",
            "Первые 10 координат вектора: \n",
            " [-0.22558594 -0.03540039 -0.21679688  0.03613281 -0.2265625  -0.09814453\n",
            "  0.109375   -0.34570312  0.18652344  0.01806641]\n"
          ]
        }
      ],
      "source": [
        "print(\"Размерность вектора: \", w[\"sunrise\"].shape)\n",
        "print(\"Первые 10 координат вектора: \\n\", w[\"sunrise\"][:10])"
      ]
    },
    {
      "cell_type": "markdown",
      "metadata": {
        "id": "5rv9Rqvq2af8"
      },
      "source": [
        "## Задание 1. Сходство."
      ]
    },
    {
      "cell_type": "markdown",
      "metadata": {
        "id": "Mns8gpJFRfzd"
      },
      "source": [
        "Извлеките векторы слов <code>London</code>, <code>England</code>, <code>Moscow</code>. Посчитайте косинусное расстояние между словами <code>London</code> и <code>England</code> и между словами <code>Moscow</code> и <code>England</code>. Какая пара слов ближе? Подсказка: для вычисления косинусного расстояния использвется метод <code>distance()</code>. Правильный ответ представлен в блоке вывода."
      ]
    },
    {
      "cell_type": "code",
      "source": [
        "# Извлечение векторов слов\n",
        "london = w[\"London\"]\n",
        "england = w[\"England\"]\n",
        "moscow = w[\"Moscow\"]\n",
        "\n",
        "# Вычисление косинусного расстояния\n",
        "dist_london_england = w.distance(\"London\", \"England\")\n",
        "dist_moscow_england = w.distance(\"Moscow\", \"England\")\n",
        "\n",
        "print(f\"Косинусное расстояние между London и England: {dist_london_england}\")\n",
        "print(f\"Косинусное расстояние между Moscow и England: {dist_moscow_england}\")"
      ],
      "metadata": {
        "colab": {
          "base_uri": "https://localhost:8080/"
        },
        "id": "y41ULrR000PF",
        "outputId": "a58cda46-59e6-4721-de7d-ded138d569f4"
      },
      "execution_count": 4,
      "outputs": [
        {
          "output_type": "stream",
          "name": "stdout",
          "text": [
            "Косинусное расстояние между London и England: 0.5600714385509491\n",
            "Косинусное расстояние между Moscow и England: 0.8476868271827698\n"
          ]
        }
      ]
    },
    {
      "cell_type": "code",
      "source": [
        "if dist_london_england < dist_moscow_england:\n",
        "    print(\"Пара слов London и England ближе друг к другу.\")\n",
        "else:\n",
        "    print(\"Пара слов Moscow и England ближе друг к другу.\")"
      ],
      "metadata": {
        "colab": {
          "base_uri": "https://localhost:8080/"
        },
        "id": "ZIOytRW802we",
        "outputId": "7a6afa65-5ef0-4623-d35b-9225c3ce2c94"
      },
      "execution_count": 5,
      "outputs": [
        {
          "output_type": "stream",
          "name": "stdout",
          "text": [
            "Пара слов London и England ближе друг к другу.\n"
          ]
        }
      ]
    },
    {
      "cell_type": "markdown",
      "metadata": {
        "id": "nLXEcSxt3DG4"
      },
      "source": [
        "## Задание 2. Аналогии.\n",
        "С помощью метода most_similar решите аналогию\n",
        "```London : England = Moscow : X```\n",
        "\n",
        "Правильный ответ представлен в блоке вывода.\n",
        "\n",
        "(Подсказка: нужно использовать аргументы positive и negative)"
      ]
    },
    {
      "cell_type": "code",
      "execution_count": 6,
      "metadata": {
        "colab": {
          "base_uri": "https://localhost:8080/"
        },
        "id": "n4Pqub5c3DV8",
        "outputId": "9888ca97-d360-41f1-b9e2-812b935dee09"
      },
      "outputs": [
        {
          "output_type": "stream",
          "name": "stdout",
          "text": [
            "X = Russia\n"
          ]
        }
      ],
      "source": [
        "result = w.most_similar(positive=[\"Moscow\", \"England\"], negative=[\"London\"])\n",
        "print(f\"X = {result[0][0]}\")"
      ]
    },
    {
      "cell_type": "markdown",
      "metadata": {
        "id": "dFzneqrn3Djq"
      },
      "source": [
        "## Задание 3. Сходство: найти лишнее.\n",
        "С помощью метода <code>doesnt_match</code> найдите лишнее слово в ряду <code>breakfast cereal dinner lunch</code>.\n",
        "\n",
        "Правильный ответ представлен в блоке вывода."
      ]
    },
    {
      "cell_type": "code",
      "execution_count": 7,
      "metadata": {
        "colab": {
          "base_uri": "https://localhost:8080/"
        },
        "id": "493uH-D33DxJ",
        "outputId": "23642419-8e13-4d27-a8c2-075aa6bba4fa"
      },
      "outputs": [
        {
          "output_type": "stream",
          "name": "stdout",
          "text": [
            "Лишнее слово: cereal\n"
          ]
        }
      ],
      "source": [
        "words = [\"breakfast\", \"cereal\", \"dinner\", \"lunch\"]\n",
        "\n",
        "outlier = w.doesnt_match(words)\n",
        "print(f\"Лишнее слово: {outlier}\")"
      ]
    },
    {
      "cell_type": "markdown",
      "metadata": {
        "id": "BT-Zl3YaRf0X"
      },
      "source": [
        "## Задание 4. Представление предложений в виде векторов"
      ]
    },
    {
      "cell_type": "markdown",
      "metadata": {
        "id": "dm_SiyjU3D9G"
      },
      "source": [
        "\n",
        "Дано предложение: <code>the quick brown fox jumps over the lazy dog</code>. Вам нужно представить это предложение в виде вектора. Для этого найдите вектор каждого слова в модели, а затем усредните векторы покомпонентно.\n"
      ]
    },
    {
      "cell_type": "code",
      "source": [
        "import numpy as np"
      ],
      "metadata": {
        "id": "ZccbRRIy2n9s"
      },
      "execution_count": 8,
      "outputs": []
    },
    {
      "cell_type": "code",
      "source": [
        "sentence = \"the quick brown fox jumps over the lazy dog\"\n",
        "\n",
        "words = sentence.split()\n",
        "\n",
        "vector = np.mean([w[word] for word in words if word in w.key_to_index], axis=0)\n",
        "\n",
        "print(f\"Вектор предложения (первые 5 координат вектора-предложения): {vector[:5]}\")"
      ],
      "metadata": {
        "colab": {
          "base_uri": "https://localhost:8080/"
        },
        "id": "zKuzW3Rm2pJb",
        "outputId": "c39deb6e-70bf-4b4e-c146-acd5cc1140dc"
      },
      "execution_count": 9,
      "outputs": [
        {
          "output_type": "stream",
          "name": "stdout",
          "text": [
            "Вектор предложения (первые 5 координат вектора-предложения): [ 0.09055582  0.05434163 -0.06713867  0.10968696 -0.01060655]\n"
          ]
        }
      ]
    },
    {
      "cell_type": "markdown",
      "metadata": {
        "id": "mU3hwN53r5un"
      },
      "source": [
        "# Сравнение двух моделей"
      ]
    },
    {
      "cell_type": "markdown",
      "metadata": {
        "id": "G-HvrEkHtFqQ"
      },
      "source": [
        "## Загрузка ещё одной модели"
      ]
    },
    {
      "cell_type": "markdown",
      "metadata": {
        "id": "z13Io-4x3Ve2"
      },
      "source": [
        "\n",
        "Откроем модель google-news-vectors и модель, обученную на британском национальном корпусе http://vectors.nlpl.eu/repository/20/0.zip, с помощью gensim.\n"
      ]
    },
    {
      "cell_type": "code",
      "execution_count": 10,
      "metadata": {
        "colab": {
          "base_uri": "https://localhost:8080/"
        },
        "id": "0QPYDnlz3X2B",
        "outputId": "c6ba8c7a-fee4-41f8-d893-5b19f9c48a6a"
      },
      "outputs": [
        {
          "output_type": "stream",
          "name": "stdout",
          "text": [
            "--2024-05-05 15:15:12--  http://vectors.nlpl.eu/repository/20/0.zip\n",
            "Resolving vectors.nlpl.eu (vectors.nlpl.eu)... 129.240.189.181\n",
            "Connecting to vectors.nlpl.eu (vectors.nlpl.eu)|129.240.189.181|:80... connected.\n",
            "HTTP request sent, awaiting response... 416 Requested Range Not Satisfiable\n",
            "\n",
            "    The file is already fully retrieved; nothing to do.\n",
            "\n",
            "Archive:  0.zip\n",
            "replace meta.json? [y]es, [n]o, [A]ll, [N]one, [r]ename: n\n",
            "replace model.bin? [y]es, [n]o, [A]ll, [N]one, [r]ename: n\n",
            "replace model.txt? [y]es, [n]o, [A]ll, [N]one, [r]ename: n\n",
            "replace README? [y]es, [n]o, [A]ll, [N]one, [r]ename: n\n",
            "163473 300\n",
            "say_VERB -0.008861 0.097097 0.100236 0.070044 -0.079279 0.000923 -0.012829 0.064301 -0.029405 -0.009858 -0.017753 0.063115 0.033623 0.019805 0.052704 -0.100458 0.089387 -0.040792 -0.088936 0.110212 -0.044749 0.077675 -0.017062 -0.063745 -0.009502 -0.079371 0.066952 -0.070209 0.063761 -0.038194 -0.046252 0.049983 -0.094985 -0.086341 0.024665 -0.112857 -0.038358 -0.007008 -0.010063 -0.000183 0.068841 0.024942 -0.042561 -0.044576 0.010776 0.006323 0.088285 -0.062522 0.028216 0.088291 0.033231 -0.033732 -0.002995 0.118994 0.000453 0.158588 -0.044475 -0.137629 0.066080 0.062824 -0.128369 -0.087959 0.028080 0.070063 0.046700 -0.083278 -0.118428 0.071118 0.100757 0.017944 0.026296 0.017282 -0.082127 -0.006148 0.002967 -0.032857 -0.076493 -0.072842 -0.055179 -0.081703 0.011437 -0.038698 -0.062540 -0.027899 0.087635 0.031870 0.029164 0.000524 -0.039895 -0.055559 0.024582 -0.030595 0.003942 -0.034500 0.003012 -0.023863 0.033831 0.061476 -0.090183 -0.039206 -0.026586 -0.042763 0.049835 -0.052496 -0.020044 0.073703 0.096775 0.033063 0.000313 -0.022581 -0.141154 0.032095 0.077733 -0.063739 -0.055647 -0.017604 0.044639 -0.062925 -0.001960 0.024665 -0.009416 -0.021381 0.082724 -0.031026 0.027255 0.066198 0.000845 0.008393 0.039434 0.054104 -0.060255 0.034266 0.079435 0.043624 -0.015871 -0.038030 -0.030374 -0.020542 0.007132 0.008708 0.087840 0.017351 -0.089493 0.030182 0.026961 -0.071212 -0.004854 0.007389 0.067203 -0.026351 -0.011460 -0.058723 0.013153 -0.020313 -0.051170 0.002242 0.088222 -0.004267 -0.073523 -0.021874 -0.033585 -0.048553 -0.019119 -0.025310 0.053096 0.111063 0.035042 -0.082811 -0.073749 -0.010048 0.012265 -0.023893 -0.125340 0.026611 0.043258 -0.010473 -0.044428 -0.039251 -0.046891 -0.013008 0.062219 0.078732 -0.086303 0.016901 0.010331 -0.043754 -0.057733 -0.037964 0.024907 0.068143 -0.019992 -0.035030 0.038854 0.034345 -0.048839 -0.105419 0.043013 -0.023374 -0.077629 -0.076465 0.078564 -0.024519 0.041293 -0.032088 -0.007053 0.022618 -0.004657 -0.093970 -0.000199 0.004813 -0.044789 -0.127900 -0.033516 -0.043816 0.033056 -0.057619 0.004901 0.018863 0.039752 0.000739 -0.136350 -0.067819 -0.014856 0.058351 -0.014275 -0.000873 -0.039388 -0.017191 -0.051184 -0.046863 0.006143 -0.075998 -0.064695 0.046676 -0.020558 0.082474 0.160449 -0.027475 0.009541 -0.021876 0.027416 0.078049 0.089309 0.032928 -0.033272 0.048905 0.061164 0.054811 0.024527 -0.034978 -0.018083 -0.077601 0.034112 -0.021121 0.098856 0.019585 -0.058928 -0.016126 -0.011748 0.031588 0.003205 -0.077483 -0.002372 -0.113548 0.047445 -0.027094 -0.032843 0.042378 -0.074703 0.057001 0.012020 0.131156 0.002080 -0.065770 0.112443 0.047786 0.024492 -0.108401 0.016836 0.001478 0.041542 -0.067801 0.102876 -0.052808 -0.136035 0.073852 0.079966 -0.000586 0.034055 -0.053040 0.050461 -0.021550 0.014827 0.077605 -0.024783 -0.082388 0.074410 -0.033689 -0.010982 0.043733\n",
            "go_VERB 0.010490 0.094733 0.143699 0.040344 -0.103710 -0.000016 -0.014351 0.019653 0.069472 -0.046938 -0.057882 0.076405 -0.025230 0.026663 0.029986 -0.001605 -0.027803 0.037521 -0.050608 0.016215 0.025947 0.061172 -0.037448 -0.079232 0.071731 -0.085143 0.021494 -0.135554 -0.026115 -0.066408 0.022858 0.083231 0.020998 -0.049906 -0.079992 -0.060827 -0.028916 -0.029005 0.026067 -0.074869 0.073802 0.023593 -0.024348 -0.093236 0.006169 0.013119 0.007817 -0.088096 -0.012373 0.099807 0.011438 0.028583 0.025614 0.175403 0.007033 0.038856 0.004040 -0.088907 0.079697 0.037448 -0.128230 -0.066502 -0.018969 0.025777 0.035905 0.003710 -0.089079 0.071521 0.039237 0.052136 0.020986 -0.030793 -0.069486 -0.137115 0.008305 0.020813 -0.155342 0.000619 -0.033499 -0.104162 -0.061528 -0.043877 -0.042524 -0.032872 0.045071 0.072908 0.096057 0.141987 -0.078056 -0.013102 -0.026589 -0.073783 0.114807 0.077389 -0.041879 -0.052886 0.053710 0.036806 -0.035973 0.049071 -0.107199 -0.043581 0.016515 -0.029278 -0.026228 0.068037 -0.024183 0.040984 -0.020469 -0.103833 -0.007225 -0.073788 -0.051063 -0.037850 0.052581 -0.053090 -0.012198 -0.057343 0.024050 -0.046498 0.003065 -0.058912 0.043695 0.006340 0.060953 -0.008608 -0.029686 0.081187 -0.020058 0.059240 -0.061306 -0.002190 -0.020671 0.076712 0.049087 0.001153 0.087481 0.008559 0.069936 -0.015886 0.006122 0.038000 -0.071984 0.005263 0.060463 -0.051217 -0.034060 0.045217 0.059163 -0.048462 -0.005371 0.009663 0.081303 0.051019 -0.001248 -0.022637 0.016228 -0.006395 -0.053985 -0.014513 -0.017219 -0.010658 -0.012446 -0.035279 -0.003882 0.036453 0.029681 0.021278 0.006188 0.027861 0.076864 -0.042835 -0.022834 0.013928 0.066150 0.040982 -0.110985 -0.018865 0.006675 0.019173 0.021484 -0.021977 -0.035462 0.000464 -0.024281 0.010881 -0.064037 -0.024893 -0.095968 0.020834 -0.114225 -0.023433 -0.043971 0.014273 0.013481 -0.007542 0.079197 0.021280 -0.129871 0.080770 0.028912 -0.044134 -0.019904 -0.039406 -0.076024 0.058488 -0.094331 -0.082633 0.017676 -0.084006 -0.024444 -0.049778 -0.044615 -0.013499 -0.036736 -0.038579 -0.117319 0.012026 -0.007846 0.024003 -0.101645 0.111720 -0.010241 0.050279 -0.002212 0.060056 -0.116837 0.006078 -0.017954 -0.021794 0.020252 -0.031337 -0.032407 0.081086 -0.095125 0.041699 0.015953 -0.045653 -0.022522 -0.021422 -0.029167 0.052594 0.016523 0.081598 -0.027877 0.000609 0.012837 0.011880 0.074220 0.009736 0.006465 -0.140252 0.010762 -0.038319 0.038924 0.042537 0.005027 0.014024 0.024548 0.050131 -0.048069 -0.012616 -0.052162 -0.100378 0.067741 -0.067824 -0.020692 -0.043022 -0.038036 -0.016860 0.027835 0.140990 -0.045201 -0.069347 0.174518 -0.000236 0.008150 -0.039823 0.041197 0.056322 0.085883 0.027376 0.036537 0.094723 -0.103076 0.105746 0.059074 0.010947 0.099756 -0.027213 0.128793 -0.054593 0.025890 0.053512 0.005200 -0.035256 0.063273 -0.027069 0.046354 -0.002262\n"
          ]
        }
      ],
      "source": [
        "! wget -c http://vectors.nlpl.eu/repository/20/0.zip\n",
        "! unzip 0.zip\n",
        "! head -3 model.txt"
      ]
    },
    {
      "cell_type": "markdown",
      "metadata": {
        "id": "6-21wScRRf1E"
      },
      "source": [
        "Загрузим модель, обученную на британском национальном корпусе"
      ]
    },
    {
      "cell_type": "code",
      "execution_count": 11,
      "metadata": {
        "id": "-E6OAvhw8-A7"
      },
      "outputs": [],
      "source": [
        "w_british = KeyedVectors.load_word2vec_format(\"model.bin\", binary=True)"
      ]
    },
    {
      "cell_type": "markdown",
      "metadata": {
        "id": "5GpisLDDRf1T"
      },
      "source": [
        "Заметим, что размерность векторов в этом случае также равна 300. При этом через нижнее подчеркивание нужно указывать часть речи используемого слова. Слова следует приводить к нижнему регистру."
      ]
    },
    {
      "cell_type": "code",
      "execution_count": 12,
      "metadata": {
        "id": "a7VEcvPIRf1W",
        "outputId": "4eda49e2-00fc-4e89-b6d6-6a1f9d09390d",
        "colab": {
          "base_uri": "https://localhost:8080/"
        }
      },
      "outputs": [
        {
          "output_type": "stream",
          "name": "stdout",
          "text": [
            "(300,)\n",
            "lower is ok\n"
          ]
        }
      ],
      "source": [
        "try:\n",
        "    print(w_british[\"London_NOUN\"].shape)\n",
        "    print('upper is ok')\n",
        "except:\n",
        "    print(w_british[\"london_NOUN\"].shape)\n",
        "    print('lower is ok')"
      ]
    },
    {
      "cell_type": "markdown",
      "metadata": {
        "id": "kfpohw153YQs"
      },
      "source": [
        "## Набор данных для оценки качества\n",
        "Скачаем датасет wordsim353.\n",
        "\n"
      ]
    },
    {
      "cell_type": "code",
      "execution_count": 13,
      "metadata": {
        "colab": {
          "base_uri": "https://localhost:8080/"
        },
        "id": "b6c2--gQ3bJF",
        "outputId": "b1cfa23d-7e1b-4cdb-aa57-772a79e058a3"
      },
      "outputs": [
        {
          "output_type": "stream",
          "name": "stdout",
          "text": [
            "--2024-05-05 15:15:55--  http://alfonseca.org/pubs/ws353simrel.tar.gz\n",
            "Resolving alfonseca.org (alfonseca.org)... 162.215.249.67\n",
            "Connecting to alfonseca.org (alfonseca.org)|162.215.249.67|:80... connected.\n",
            "HTTP request sent, awaiting response... 416 Requested Range Not Satisfiable\n",
            "\n",
            "    The file is already fully retrieved; nothing to do.\n",
            "\n",
            "wordsim353_sim_rel/wordsim353_agreed.txt\n",
            "wordsim353_sim_rel/wordsim353_annotator1.txt\n",
            "wordsim353_sim_rel/wordsim353_annotator2.txt\n",
            "wordsim353_sim_rel/wordsim_relatedness_goldstandard.txt\n",
            "wordsim353_sim_rel/wordsim_similarity_goldstandard.txt\n",
            "tiger\tcat\t7.35\n",
            "tiger\ttiger\t10.00\n",
            "plane\tcar\t5.77\n",
            "train\tcar\t6.31\n",
            "television\tradio\t6.77\n"
          ]
        }
      ],
      "source": [
        "!wget -c http://alfonseca.org/pubs/ws353simrel.tar.gz\n",
        "!tar -xvf ws353simrel.tar.gz\n",
        "!head -5 wordsim353_sim_rel/wordsim_similarity_goldstandard.txt"
      ]
    },
    {
      "cell_type": "markdown",
      "metadata": {
        "id": "dgCXUELHRf2E"
      },
      "source": [
        "## Подготовка эталонной выборки"
      ]
    },
    {
      "cell_type": "markdown",
      "metadata": {
        "id": "Fqy84Dmp3bYa"
      },
      "source": [
        "\n",
        "Из файла `wordsim_similarity_goldstandard.txt` извлечем пары слов и посчитаем косинусное сходство их векторов в обеих моделях. Посчитаем корреляцию оценок сходства в модели google-news-vectors с оценками аннотаторов в датасете, а затем - корреляцию сходства в модели на основе британского национального корпуса с оценками аннотаторов в датасете. Какая модель ближе к суждениям экспертов-разметчиков?\n",
        "\n",
        "(используем только те слова из wordsim, для которых находятся векторы на британском корпусе, помеченные как существительные!)"
      ]
    },
    {
      "cell_type": "code",
      "execution_count": 14,
      "metadata": {
        "colab": {
          "base_uri": "https://localhost:8080/",
          "height": 143
        },
        "id": "Bpeg6FQd3clf",
        "outputId": "1fdfb22f-a1a1-4264-db21-78ce19388ad0"
      },
      "outputs": [
        {
          "output_type": "execute_result",
          "data": {
            "text/plain": [
              "   first second  score\n",
              "0  tiger    cat   7.35\n",
              "1  tiger  tiger  10.00\n",
              "2  plane    car   5.77"
            ],
            "text/html": [
              "\n",
              "  <div id=\"df-4132fcfd-712a-496a-b305-ab46f1679e90\" class=\"colab-df-container\">\n",
              "    <div>\n",
              "<style scoped>\n",
              "    .dataframe tbody tr th:only-of-type {\n",
              "        vertical-align: middle;\n",
              "    }\n",
              "\n",
              "    .dataframe tbody tr th {\n",
              "        vertical-align: top;\n",
              "    }\n",
              "\n",
              "    .dataframe thead th {\n",
              "        text-align: right;\n",
              "    }\n",
              "</style>\n",
              "<table border=\"1\" class=\"dataframe\">\n",
              "  <thead>\n",
              "    <tr style=\"text-align: right;\">\n",
              "      <th></th>\n",
              "      <th>first</th>\n",
              "      <th>second</th>\n",
              "      <th>score</th>\n",
              "    </tr>\n",
              "  </thead>\n",
              "  <tbody>\n",
              "    <tr>\n",
              "      <th>0</th>\n",
              "      <td>tiger</td>\n",
              "      <td>cat</td>\n",
              "      <td>7.35</td>\n",
              "    </tr>\n",
              "    <tr>\n",
              "      <th>1</th>\n",
              "      <td>tiger</td>\n",
              "      <td>tiger</td>\n",
              "      <td>10.00</td>\n",
              "    </tr>\n",
              "    <tr>\n",
              "      <th>2</th>\n",
              "      <td>plane</td>\n",
              "      <td>car</td>\n",
              "      <td>5.77</td>\n",
              "    </tr>\n",
              "  </tbody>\n",
              "</table>\n",
              "</div>\n",
              "    <div class=\"colab-df-buttons\">\n",
              "\n",
              "  <div class=\"colab-df-container\">\n",
              "    <button class=\"colab-df-convert\" onclick=\"convertToInteractive('df-4132fcfd-712a-496a-b305-ab46f1679e90')\"\n",
              "            title=\"Convert this dataframe to an interactive table.\"\n",
              "            style=\"display:none;\">\n",
              "\n",
              "  <svg xmlns=\"http://www.w3.org/2000/svg\" height=\"24px\" viewBox=\"0 -960 960 960\">\n",
              "    <path d=\"M120-120v-720h720v720H120Zm60-500h600v-160H180v160Zm220 220h160v-160H400v160Zm0 220h160v-160H400v160ZM180-400h160v-160H180v160Zm440 0h160v-160H620v160ZM180-180h160v-160H180v160Zm440 0h160v-160H620v160Z\"/>\n",
              "  </svg>\n",
              "    </button>\n",
              "\n",
              "  <style>\n",
              "    .colab-df-container {\n",
              "      display:flex;\n",
              "      gap: 12px;\n",
              "    }\n",
              "\n",
              "    .colab-df-convert {\n",
              "      background-color: #E8F0FE;\n",
              "      border: none;\n",
              "      border-radius: 50%;\n",
              "      cursor: pointer;\n",
              "      display: none;\n",
              "      fill: #1967D2;\n",
              "      height: 32px;\n",
              "      padding: 0 0 0 0;\n",
              "      width: 32px;\n",
              "    }\n",
              "\n",
              "    .colab-df-convert:hover {\n",
              "      background-color: #E2EBFA;\n",
              "      box-shadow: 0px 1px 2px rgba(60, 64, 67, 0.3), 0px 1px 3px 1px rgba(60, 64, 67, 0.15);\n",
              "      fill: #174EA6;\n",
              "    }\n",
              "\n",
              "    .colab-df-buttons div {\n",
              "      margin-bottom: 4px;\n",
              "    }\n",
              "\n",
              "    [theme=dark] .colab-df-convert {\n",
              "      background-color: #3B4455;\n",
              "      fill: #D2E3FC;\n",
              "    }\n",
              "\n",
              "    [theme=dark] .colab-df-convert:hover {\n",
              "      background-color: #434B5C;\n",
              "      box-shadow: 0px 1px 3px 1px rgba(0, 0, 0, 0.15);\n",
              "      filter: drop-shadow(0px 1px 2px rgba(0, 0, 0, 0.3));\n",
              "      fill: #FFFFFF;\n",
              "    }\n",
              "  </style>\n",
              "\n",
              "    <script>\n",
              "      const buttonEl =\n",
              "        document.querySelector('#df-4132fcfd-712a-496a-b305-ab46f1679e90 button.colab-df-convert');\n",
              "      buttonEl.style.display =\n",
              "        google.colab.kernel.accessAllowed ? 'block' : 'none';\n",
              "\n",
              "      async function convertToInteractive(key) {\n",
              "        const element = document.querySelector('#df-4132fcfd-712a-496a-b305-ab46f1679e90');\n",
              "        const dataTable =\n",
              "          await google.colab.kernel.invokeFunction('convertToInteractive',\n",
              "                                                    [key], {});\n",
              "        if (!dataTable) return;\n",
              "\n",
              "        const docLinkHtml = 'Like what you see? Visit the ' +\n",
              "          '<a target=\"_blank\" href=https://colab.research.google.com/notebooks/data_table.ipynb>data table notebook</a>'\n",
              "          + ' to learn more about interactive tables.';\n",
              "        element.innerHTML = '';\n",
              "        dataTable['output_type'] = 'display_data';\n",
              "        await google.colab.output.renderOutput(dataTable, element);\n",
              "        const docLink = document.createElement('div');\n",
              "        docLink.innerHTML = docLinkHtml;\n",
              "        element.appendChild(docLink);\n",
              "      }\n",
              "    </script>\n",
              "  </div>\n",
              "\n",
              "\n",
              "<div id=\"df-8722e5bb-5d80-4424-85d1-5f1ad0ffdbf5\">\n",
              "  <button class=\"colab-df-quickchart\" onclick=\"quickchart('df-8722e5bb-5d80-4424-85d1-5f1ad0ffdbf5')\"\n",
              "            title=\"Suggest charts\"\n",
              "            style=\"display:none;\">\n",
              "\n",
              "<svg xmlns=\"http://www.w3.org/2000/svg\" height=\"24px\"viewBox=\"0 0 24 24\"\n",
              "     width=\"24px\">\n",
              "    <g>\n",
              "        <path d=\"M19 3H5c-1.1 0-2 .9-2 2v14c0 1.1.9 2 2 2h14c1.1 0 2-.9 2-2V5c0-1.1-.9-2-2-2zM9 17H7v-7h2v7zm4 0h-2V7h2v10zm4 0h-2v-4h2v4z\"/>\n",
              "    </g>\n",
              "</svg>\n",
              "  </button>\n",
              "\n",
              "<style>\n",
              "  .colab-df-quickchart {\n",
              "      --bg-color: #E8F0FE;\n",
              "      --fill-color: #1967D2;\n",
              "      --hover-bg-color: #E2EBFA;\n",
              "      --hover-fill-color: #174EA6;\n",
              "      --disabled-fill-color: #AAA;\n",
              "      --disabled-bg-color: #DDD;\n",
              "  }\n",
              "\n",
              "  [theme=dark] .colab-df-quickchart {\n",
              "      --bg-color: #3B4455;\n",
              "      --fill-color: #D2E3FC;\n",
              "      --hover-bg-color: #434B5C;\n",
              "      --hover-fill-color: #FFFFFF;\n",
              "      --disabled-bg-color: #3B4455;\n",
              "      --disabled-fill-color: #666;\n",
              "  }\n",
              "\n",
              "  .colab-df-quickchart {\n",
              "    background-color: var(--bg-color);\n",
              "    border: none;\n",
              "    border-radius: 50%;\n",
              "    cursor: pointer;\n",
              "    display: none;\n",
              "    fill: var(--fill-color);\n",
              "    height: 32px;\n",
              "    padding: 0;\n",
              "    width: 32px;\n",
              "  }\n",
              "\n",
              "  .colab-df-quickchart:hover {\n",
              "    background-color: var(--hover-bg-color);\n",
              "    box-shadow: 0 1px 2px rgba(60, 64, 67, 0.3), 0 1px 3px 1px rgba(60, 64, 67, 0.15);\n",
              "    fill: var(--button-hover-fill-color);\n",
              "  }\n",
              "\n",
              "  .colab-df-quickchart-complete:disabled,\n",
              "  .colab-df-quickchart-complete:disabled:hover {\n",
              "    background-color: var(--disabled-bg-color);\n",
              "    fill: var(--disabled-fill-color);\n",
              "    box-shadow: none;\n",
              "  }\n",
              "\n",
              "  .colab-df-spinner {\n",
              "    border: 2px solid var(--fill-color);\n",
              "    border-color: transparent;\n",
              "    border-bottom-color: var(--fill-color);\n",
              "    animation:\n",
              "      spin 1s steps(1) infinite;\n",
              "  }\n",
              "\n",
              "  @keyframes spin {\n",
              "    0% {\n",
              "      border-color: transparent;\n",
              "      border-bottom-color: var(--fill-color);\n",
              "      border-left-color: var(--fill-color);\n",
              "    }\n",
              "    20% {\n",
              "      border-color: transparent;\n",
              "      border-left-color: var(--fill-color);\n",
              "      border-top-color: var(--fill-color);\n",
              "    }\n",
              "    30% {\n",
              "      border-color: transparent;\n",
              "      border-left-color: var(--fill-color);\n",
              "      border-top-color: var(--fill-color);\n",
              "      border-right-color: var(--fill-color);\n",
              "    }\n",
              "    40% {\n",
              "      border-color: transparent;\n",
              "      border-right-color: var(--fill-color);\n",
              "      border-top-color: var(--fill-color);\n",
              "    }\n",
              "    60% {\n",
              "      border-color: transparent;\n",
              "      border-right-color: var(--fill-color);\n",
              "    }\n",
              "    80% {\n",
              "      border-color: transparent;\n",
              "      border-right-color: var(--fill-color);\n",
              "      border-bottom-color: var(--fill-color);\n",
              "    }\n",
              "    90% {\n",
              "      border-color: transparent;\n",
              "      border-bottom-color: var(--fill-color);\n",
              "    }\n",
              "  }\n",
              "</style>\n",
              "\n",
              "  <script>\n",
              "    async function quickchart(key) {\n",
              "      const quickchartButtonEl =\n",
              "        document.querySelector('#' + key + ' button');\n",
              "      quickchartButtonEl.disabled = true;  // To prevent multiple clicks.\n",
              "      quickchartButtonEl.classList.add('colab-df-spinner');\n",
              "      try {\n",
              "        const charts = await google.colab.kernel.invokeFunction(\n",
              "            'suggestCharts', [key], {});\n",
              "      } catch (error) {\n",
              "        console.error('Error during call to suggestCharts:', error);\n",
              "      }\n",
              "      quickchartButtonEl.classList.remove('colab-df-spinner');\n",
              "      quickchartButtonEl.classList.add('colab-df-quickchart-complete');\n",
              "    }\n",
              "    (() => {\n",
              "      let quickchartButtonEl =\n",
              "        document.querySelector('#df-8722e5bb-5d80-4424-85d1-5f1ad0ffdbf5 button');\n",
              "      quickchartButtonEl.style.display =\n",
              "        google.colab.kernel.accessAllowed ? 'block' : 'none';\n",
              "    })();\n",
              "  </script>\n",
              "</div>\n",
              "    </div>\n",
              "  </div>\n"
            ],
            "application/vnd.google.colaboratory.intrinsic+json": {
              "type": "dataframe",
              "variable_name": "df",
              "summary": "{\n  \"name\": \"df\",\n  \"rows\": 203,\n  \"fields\": [\n    {\n      \"column\": \"first\",\n      \"properties\": {\n        \"dtype\": \"string\",\n        \"num_unique_values\": 130,\n        \"samples\": [\n          \"marathon\",\n          \"century\",\n          \"vodka\"\n        ],\n        \"semantic_type\": \"\",\n        \"description\": \"\"\n      }\n    },\n    {\n      \"column\": \"second\",\n      \"properties\": {\n        \"dtype\": \"string\",\n        \"num_unique_values\": 177,\n        \"samples\": [\n          \"Jackson\",\n          \"fauna\",\n          \"interview\"\n        ],\n        \"semantic_type\": \"\",\n        \"description\": \"\"\n      }\n    },\n    {\n      \"column\": \"score\",\n      \"properties\": {\n        \"dtype\": \"number\",\n        \"std\": 2.503961087679943,\n        \"min\": 0.23,\n        \"max\": 10.0,\n        \"num_unique_values\": 150,\n        \"samples\": [\n          8.34,\n          6.63,\n          3.04\n        ],\n        \"semantic_type\": \"\",\n        \"description\": \"\"\n      }\n    }\n  ]\n}"
            }
          },
          "metadata": {},
          "execution_count": 14
        }
      ],
      "source": [
        "import pandas as pd\n",
        "\n",
        "df = pd.read_csv(\"wordsim353_sim_rel/wordsim_similarity_goldstandard.txt\",\n",
        "                 sep=\"\\t\", header=None)\n",
        "df.columns = [\"first\", \"second\", \"score\"]\n",
        "df.head(3)"
      ]
    },
    {
      "cell_type": "markdown",
      "metadata": {
        "id": "rDcXFGZnRf2e"
      },
      "source": [
        "## Вычисление оценок similarity моделей\n",
        "Используем только те слова из wordsim, для которых находятся векторы на британском корпусе, помеченные как существительные, сформируйте 3 массива с оценкам схожести:\n",
        "\n",
        "1. Оценки (косинус между векторами), полученные в результате модели google-news-vectors\n",
        "\n",
        "2. Оценки (косинус между векторами) полученные в результате модели на основе британского национального корпуса\n",
        "\n",
        "3. Эталонные оценки из word_sim, для слов из которых находятся векторы на британском корпусе\n",
        "\n",
        "Пропущенные слова из word_sim представлены в блоке вывода."
      ]
    },
    {
      "cell_type": "code",
      "execution_count": 15,
      "metadata": {
        "colab": {
          "base_uri": "https://localhost:8080/"
        },
        "id": "Qry_vLEd9758",
        "outputId": "69202555-3c4f-4631-d88a-96f18eb31efe"
      },
      "outputs": [
        {
          "output_type": "stream",
          "name": "stdout",
          "text": [
            "\"Key 'stupid_NOUN' not present\" Skipping this word.\n",
            "\"Key 'arafat_NOUN' not present\" Skipping this word.\n",
            "\"Key 'harvard_NOUN' not present\" Skipping this word.\n",
            "\"Key 'mexico_NOUN' not present\" Skipping this word.\n",
            "\"Key 'live_NOUN' not present\" Skipping this word.\n",
            "\"Key 'seven_NOUN' not present\" Skipping this word.\n",
            "\"Key 'five_NOUN' not present\" Skipping this word.\n",
            "\"Key 'mars_NOUN' not present\" Skipping this word.\n"
          ]
        }
      ],
      "source": [
        "gn_dist, br_dist, scores = [], [], []\n",
        "\n",
        "for row in df.iterrows():\n",
        "    w1, w2, s = row[1][\"first\"], row[1][\"second\"], row[1][\"score\"]\n",
        "\n",
        "    try:\n",
        "        # Вычислим косинусногое сходство для каждой модели\n",
        "        gn_sim = w.similarity(w1, w2)\n",
        "        br_sim = w_british.similarity(w1.lower() + \"_NOUN\", w2.lower() + \"_NOUN\")\n",
        "\n",
        "        # И запишем результы в соответствующие списки\n",
        "        gn_dist.append(gn_sim)\n",
        "        br_dist.append(br_sim)\n",
        "        scores.append(s)\n",
        "\n",
        "    except KeyError as e:\n",
        "        print(e, \"Skipping this word.\")"
      ]
    },
    {
      "cell_type": "markdown",
      "metadata": {
        "id": "XPyeIR2QtSec"
      },
      "source": [
        "## Выбор модели: корреляция с экспертами\n",
        "\n",
        "Вычислите корреляцию Спирмена для каждой модели по сравнению с эталонными оценками из word_sim.\n",
        "\n",
        "Результаты представлены в блоке вывода."
      ]
    },
    {
      "cell_type": "code",
      "execution_count": 16,
      "metadata": {
        "id": "HZlbnwcq-SCL"
      },
      "outputs": [],
      "source": [
        "from scipy.stats import spearmanr"
      ]
    },
    {
      "cell_type": "code",
      "source": [
        "corr_gn, _ = spearmanr(gn_dist, scores)\n",
        "corr_br, _ = spearmanr(br_dist, scores)\n",
        "\n",
        "print(f\"Корреляция Спирмена для модели google-news-vectors: {corr_gn}\")\n",
        "print(f\"Корреляция Спирмена для модели на основе британского национального корпуса: {corr_br}\")"
      ],
      "metadata": {
        "colab": {
          "base_uri": "https://localhost:8080/"
        },
        "id": "r63UwH5j_3hC",
        "outputId": "b0c852d3-2ace-438e-f236-7a0dfa6e68f9"
      },
      "execution_count": 17,
      "outputs": [
        {
          "output_type": "stream",
          "name": "stdout",
          "text": [
            "Корреляция Спирмена для модели google-news-vectors: 0.7817164245392594\n",
            "Корреляция Спирмена для модели на основе британского национального корпуса: 0.762755193448961\n"
          ]
        }
      ]
    },
    {
      "cell_type": "markdown",
      "metadata": {
        "id": "OtlAncsQANfx"
      },
      "source": [
        "Можно заметить, что модель google-news-vectors несколько выигрывает в данном случае."
      ]
    },
    {
      "cell_type": "markdown",
      "source": [
        "# Индивидуальное задание"
      ],
      "metadata": {
        "id": "1sDyAFbCA4rI"
      }
    },
    {
      "cell_type": "markdown",
      "source": [
        "Переходить к выполнению индивидуального задания следует только после того, как получен корректно работающий блокнот для работы с моделями. Для краткости будем именовать модель google-news-vectors -- GN, а модель на основе британского национального корпуса -- BR.  \n",
        "</br>  \n",
        "\n",
        "1. Определите косинусное расстояние между векторами слов: `student` и `smart`:  \n",
        "    _Введите результат модели GN.\n",
        "    Десятичный разделитель точка. Ответ округлите до тысячных:_\n",
        "    ```\n",
        "    0.934\n",
        "    ```  \n",
        "\n",
        "    _Введите результат модели BR.\n",
        "    Десятичный разделитель точка. Ответ округлите до тысячных:_\n",
        "    ```\n",
        "    0.720\n",
        "    ```\n",
        "2. Дан набор слов: `student smart wood money`, определите лишнее слово.\n",
        "    \n",
        "    _Введите результат модели GN.\n",
        "    Введите лишнее слово. Все символы должны быть строчными:_\n",
        "    ```\n",
        "    wood\n",
        "    ```\n",
        "    _Введите результат модели BR. Введите лишнее слово (без _NOUN). Все символы должны быть строчными:_\n",
        "    ```\n",
        "    student\n",
        "    ```\n",
        "3. Определите косинусное расстояние между векторами предложений:\n",
        "\n",
        "    _Дисклеймер: из оригинальных пословиц удлаены слова, отсутствующие в модели GN._\n",
        "\n",
        "    `journey thousand miles begins with single step` и `leopard can not change its spots`.\n",
        "\n",
        "    Для нахождения вектора предложения требуется найти вектор каждого слова в предложении, а затем усреднить эти векторы покомпонентно (рекомендуем использовать `numpy.mean()` с правильным параметром `axis`).\n",
        "    </br>  \n",
        "    _Введите результат модели GN.Десятичный разделитель точка. Ответ округлите до тысячных:_\n",
        "    ```\n",
        "    0.672\n",
        "    ```\n",
        "4. Из набора данных [word_sim](https://courses.openedu.ru/assets/courseware/v1/e5d93a68121655b8f04aea15b89c130a/asset-v1:ITMOUniversity+AUTXTIMGPROC+spring_2024_ITMO_mag+type@asset+block/wordsim_similarity_goldstandard.txt) извлеките подвыборку пар слов с индексами `19:119` (нумерация начинается с нуля, правая граница не включается).  \n",
        "\n",
        "    Из уже выбранных пар используйте только те, для слов которых находятся векторы на британском корпусе, помеченные как существительные! Иначе удаляйте такую пару из подвыборки.\n",
        "\n",
        "    Вычислите корреляцию Спирмена между оценками схожести выбранных пар слов, полученных в результате работы моделей, и оценками аннотаторов в датасете word_sim.  \n",
        "\n",
        "    _Введите коэффциент корреляции спирмена для модели GN. Десятичный разделитель точка. Ответ округлите до тысячных:_\n",
        "    ```\n",
        "    0.701\n",
        "    ```\n",
        "    _Введите коэффциент корреляции спирмена для модели BR. Десятичный разделитель точка. Ответ округлите до тысячных:_\n",
        "    ```\n",
        "    0.655\n",
        "    ```\n",
        "    _Введите количество удаленных из подвыборки пар слов. Введите целое число:_\n",
        "    ```\n",
        "    3\n",
        "    ```\n"
      ],
      "metadata": {
        "id": "0XMKItoiP3O0"
      }
    },
    {
      "cell_type": "markdown",
      "source": [
        "![image.png](data:image/png;base64,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)"
      ],
      "metadata": {
        "id": "t5xmfcNKQ2hL"
      }
    },
    {
      "cell_type": "code",
      "source": [
        "from scipy.spatial.distance import cosine"
      ],
      "metadata": {
        "id": "X4rELF1zB46D"
      },
      "execution_count": 18,
      "outputs": []
    },
    {
      "cell_type": "code",
      "source": [
        "# 1. Косинусное расстояние между векторами слов\n",
        "task = [\"student\", \"smart\"]\n",
        "\n",
        "print(\"GN: %.3f\" % w.distance(task[0], task[1]))\n",
        "print(\"BR: %.3f\" % w_british.distance(task[0] + \"_NOUN\", task[1] + \"_NOUN\"))"
      ],
      "metadata": {
        "colab": {
          "base_uri": "https://localhost:8080/"
        },
        "id": "b1rTA1HbA6-a",
        "outputId": "d209a3e3-e95b-4010-a9a4-9eab70f9cedd"
      },
      "execution_count": 19,
      "outputs": [
        {
          "output_type": "stream",
          "name": "stdout",
          "text": [
            "GN: 0.934\n",
            "BR: 0.720\n"
          ]
        }
      ]
    },
    {
      "cell_type": "code",
      "source": [
        "# 2. Определение лишнего слова\n",
        "words = ['student', 'smart', 'wood', 'money']\n",
        "words_NOUN = [word + \"_NOUN\" for word in words]\n",
        "\n",
        "print(\"GN:\", w.doesnt_match(words))\n",
        "print(\"BR:\", w_british.doesnt_match(words_NOUN).replace(\"_NOUN\", \"\"))"
      ],
      "metadata": {
        "colab": {
          "base_uri": "https://localhost:8080/"
        },
        "id": "ICJW_f7TDOlh",
        "outputId": "af0dc0a1-c637-41bd-b0b4-925215874d51"
      },
      "execution_count": 20,
      "outputs": [
        {
          "output_type": "stream",
          "name": "stdout",
          "text": [
            "GN: wood\n",
            "BR: student\n"
          ]
        }
      ]
    },
    {
      "cell_type": "code",
      "source": [
        "import scipy.spatial.distance\n",
        "\n",
        "# 3. Косинусное расстояние между векторами предложений\n",
        "sent_1 = \"journey thousand miles begins with single step\".split()\n",
        "sent_2 = \"leopard can not change its spots\".split()\n",
        "\n",
        "# Для модели GN\n",
        "vect_1_gn = np.mean([w[word] for word in sent_1 if word in w], axis=0)\n",
        "vect_2_gn = np.mean([w[word] for word in sent_2 if word in w], axis=0)\n",
        "\n",
        "similarity_sentences_gn = scipy.spatial.distance.cosine(vect_1_gn, vect_2_gn)\n",
        "print(f\"Косинусное расстояние предложений GN: {similarity_sentences_gn:.3f}\")"
      ],
      "metadata": {
        "colab": {
          "base_uri": "https://localhost:8080/"
        },
        "id": "cZjEYrl8DRxI",
        "outputId": "e46a8fd7-295b-44cc-ab2a-1e0ed446c2b1"
      },
      "execution_count": 21,
      "outputs": [
        {
          "output_type": "stream",
          "name": "stdout",
          "text": [
            "Косинусное расстояние предложений GN: 0.672\n"
          ]
        }
      ]
    },
    {
      "cell_type": "code",
      "source": [
        "# 4. Корреляция Спирмена\n",
        "data = pd.read_csv('/content/wordsim_similarity_goldstandard.txt', sep=\"\\t\", header=None)\n",
        "data.columns = [\"first\", \"second\", \"score\"]\n",
        "\n",
        "# Установим значения подвыборки\n",
        "subdata = data.iloc[19:119]\n",
        "\n",
        "# Проверим наличие слов в модели BR и вычисление корреляции Спирмена\n",
        "gn_scores, br_scores, scores = [], [], []\n",
        "removed_pairs = 0\n",
        "\n",
        "for _, row in subdata.iterrows():\n",
        "    w1, w2, s = row[\"first\"], row[\"second\"], row[\"score\"]\n",
        "    w1_noun, w2_noun = w1.lower() + \"_NOUN\", w2.lower() + \"_NOUN\"\n",
        "\n",
        "    if w1_noun in w_british.key_to_index and w2_noun in w_british.key_to_index:\n",
        "        gn_scores.append(w.similarity(w1, w2))\n",
        "        br_scores.append(w_british.similarity(w1_noun, w2_noun))\n",
        "        scores.append(s)\n",
        "    else:\n",
        "        removed_pairs += 1\n",
        "\n",
        "corr_gn, _ = spearmanr(gn_scores, scores)\n",
        "corr_br, _ = spearmanr(br_scores, scores)\n",
        "\n",
        "print(f\"Коэффициент корреляции Спирмена для модели GN: {corr_gn:.3f}\")\n",
        "print(f\"Коэффициент корреляции Спирмена для модели BR: {corr_br:.3f}\")\n",
        "print(f\"Количество удаленных из подвыборки пар слов: {removed_pairs}\")\n"
      ],
      "metadata": {
        "colab": {
          "base_uri": "https://localhost:8080/"
        },
        "id": "nwu0dA9sGdn4",
        "outputId": "9ab14b63-f15a-473b-dba4-b31d950dcd22"
      },
      "execution_count": 22,
      "outputs": [
        {
          "output_type": "stream",
          "name": "stdout",
          "text": [
            "Коэффициент корреляции Спирмена для модели GN: 0.701\n",
            "Коэффициент корреляции Спирмена для модели BR: 0.655\n",
            "Количество удаленных из подвыборки пар слов: 3\n"
          ]
        }
      ]
    },
    {
      "cell_type": "code",
      "source": [],
      "metadata": {
        "id": "YHtxTZv4A7gw"
      },
      "execution_count": 22,
      "outputs": []
    }
  ],
  "metadata": {
    "colab": {
      "provenance": []
    },
    "kernelspec": {
      "display_name": "Python 3",
      "language": "python",
      "name": "python3"
    },
    "language_info": {
      "codemirror_mode": {
        "name": "ipython",
        "version": 3
      },
      "file_extension": ".py",
      "mimetype": "text/x-python",
      "name": "python",
      "nbconvert_exporter": "python",
      "pygments_lexer": "ipython3",
      "version": "3.7.6"
    }
  },
  "nbformat": 4,
  "nbformat_minor": 0
}