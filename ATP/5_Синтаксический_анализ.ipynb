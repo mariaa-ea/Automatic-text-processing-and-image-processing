{
  "cells": [
    {
      "cell_type": "markdown",
      "metadata": {
        "id": "885nCnaEi6Zq"
      },
      "source": [
        "В этом задании мы рассмотрим работу UDpipe с двумя моделями:\n",
        "\n",
        "* предварительно обученной на SynTagRus [link](https://universaldependencies.org/treebanks/ru_syntagrus/index.html)\n",
        "* обученной на Taiga [link](https://universaldependencies.org/treebanks/ru_taiga/index.html)"
      ]
    },
    {
      "cell_type": "markdown",
      "metadata": {
        "id": "Xi3sqi2ni6Zw"
      },
      "source": [
        "## Подключение необходимых модулей"
      ]
    },
    {
      "cell_type": "code",
      "execution_count": 1,
      "metadata": {
        "id": "pFELL0b6i6Zz",
        "colab": {
          "base_uri": "https://localhost:8080/"
        },
        "outputId": "ea6b7afd-f777-4527-9899-f5a650ad80cb"
      },
      "outputs": [
        {
          "output_type": "stream",
          "name": "stdout",
          "text": [
            "\u001b[?25l     \u001b[90m━━━━━━━━━━━━━━━━━━━━━━━━━━━━━━━━━━━━━━━━\u001b[0m \u001b[32m0.0/936.8 kB\u001b[0m \u001b[31m?\u001b[0m eta \u001b[36m-:--:--\u001b[0m\r\u001b[2K     \u001b[91m━━━\u001b[0m\u001b[91m╸\u001b[0m\u001b[90m━━━━━━━━━━━━━━━━━━━━━━━━━━━━━━━━━━━━\u001b[0m \u001b[32m92.2/936.8 kB\u001b[0m \u001b[31m2.5 MB/s\u001b[0m eta \u001b[36m0:00:01\u001b[0m\r\u001b[2K     \u001b[91m━━━━━━━━━━━━━━━━\u001b[0m\u001b[91m╸\u001b[0m\u001b[90m━━━━━━━━━━━━━━━━━━━━━━━\u001b[0m \u001b[32m389.1/936.8 kB\u001b[0m \u001b[31m5.7 MB/s\u001b[0m eta \u001b[36m0:00:01\u001b[0m\r\u001b[2K     \u001b[91m━━━━━━━━━━━━━━━━━━━━━━━━━━━━━━━\u001b[0m\u001b[90m╺\u001b[0m\u001b[90m━━━━━━━━\u001b[0m \u001b[32m737.3/936.8 kB\u001b[0m \u001b[31m7.1 MB/s\u001b[0m eta \u001b[36m0:00:01\u001b[0m\r\u001b[2K     \u001b[91m━━━━━━━━━━━━━━━━━━━━━━━━━━━━━━━━━━━━━━━\u001b[0m\u001b[91m╸\u001b[0m \u001b[32m931.8/936.8 kB\u001b[0m \u001b[31m7.5 MB/s\u001b[0m eta \u001b[36m0:00:01\u001b[0m\r\u001b[2K     \u001b[90m━━━━━━━━━━━━━━━━━━━━━━━━━━━━━━━━━━━━━━━━\u001b[0m \u001b[32m936.8/936.8 kB\u001b[0m \u001b[31m6.5 MB/s\u001b[0m eta \u001b[36m0:00:00\u001b[0m\n",
            "\u001b[?25h"
          ]
        }
      ],
      "source": [
        "!pip install -q conllu\n",
        "!pip install -q graphviz\n",
        "!pip install -q ufal.udpipe"
      ]
    },
    {
      "cell_type": "markdown",
      "metadata": {
        "id": "-w82dt3Ki6aJ"
      },
      "source": [
        "## Загрузка моделей"
      ]
    },
    {
      "cell_type": "code",
      "execution_count": 2,
      "metadata": {
        "id": "kDboaNgQi6aK"
      },
      "outputs": [],
      "source": [
        "!wget -q 'https://lindat.mff.cuni.cz/repository/xmlui/bitstream/handle/11234/1-3131/russian-syntagrus-ud-2.5-191206.udpipe'\n",
        "!wget -q 'https://lindat.mff.cuni.cz/repository/xmlui/bitstream/handle/11234/1-3131/russian-taiga-ud-2.5-191206.udpipe'"
      ]
    },
    {
      "cell_type": "markdown",
      "metadata": {
        "id": "05htpbLZi6as"
      },
      "source": [
        "На этом подготовка материалов завершена, переходим к написанию кода для синтаксического анализа"
      ]
    },
    {
      "cell_type": "markdown",
      "metadata": {
        "id": "4RfK9-zii6aw"
      },
      "source": [
        "## Подключение библиотек"
      ]
    },
    {
      "cell_type": "code",
      "execution_count": 3,
      "metadata": {
        "id": "dmf7LI_0i6ax"
      },
      "outputs": [],
      "source": [
        "import sys\n",
        "\n",
        "from conllu import parse\n",
        "from graphviz import Digraph\n",
        "from ufal.udpipe import Model, Pipeline, ProcessingError"
      ]
    },
    {
      "cell_type": "markdown",
      "metadata": {
        "id": "ufl9Rvugi6a3"
      },
      "source": [
        "## Настройка работы с моделями"
      ]
    },
    {
      "cell_type": "code",
      "execution_count": 4,
      "metadata": {
        "colab": {
          "base_uri": "https://localhost:8080/"
        },
        "id": "Rj7bbVu4i6a4",
        "outputId": "1c59005b-c0e7-4d09-ac4b-d7b740f33a07"
      },
      "outputs": [
        {
          "output_type": "stream",
          "name": "stdout",
          "text": [
            "Loading model:russian-syntagrus-ud-2.5-191206.udpipe\n",
            "Loading done\n",
            "Loading model:russian-taiga-ud-2.5-191206.udpipe\n",
            "Loading done\n"
          ]
        }
      ],
      "source": [
        "INPUT_FORMAT = \"tokenize\"\n",
        "OUTPUT_FORMAT = \"conllu\"\n",
        "SYNTAGRUS_MODEL_FILE = \"russian-syntagrus-ud-2.5-191206.udpipe\"\n",
        "TAIGA_MODEL_FILE = \"russian-taiga-ud-2.5-191206.udpipe\"\n",
        "\n",
        "print(\"Loading model:\" + SYNTAGRUS_MODEL_FILE)\n",
        "syntagrus_model = Model.load(SYNTAGRUS_MODEL_FILE)\n",
        "print(\"Loading done\")\n",
        "\n",
        "print(\"Loading model:\" + TAIGA_MODEL_FILE)\n",
        "taiga_model = Model.load(TAIGA_MODEL_FILE)\n",
        "print(\"Loading done\")"
      ]
    },
    {
      "cell_type": "markdown",
      "metadata": {
        "id": "eFV0w_Xmi6bA"
      },
      "source": [
        "## Построение цепочки обработки"
      ]
    },
    {
      "cell_type": "markdown",
      "metadata": {
        "id": "201ztaiki6bB"
      },
      "source": [
        "Строим цепочку обработки    -- от сырого текста до синтаксического дерева"
      ]
    },
    {
      "cell_type": "code",
      "execution_count": 5,
      "metadata": {
        "id": "NQxfMF_3i6bC"
      },
      "outputs": [],
      "source": [
        "syntagrus_pipeline = Pipeline(syntagrus_model, INPUT_FORMAT,\n",
        "                              Pipeline.DEFAULT, Pipeline.DEFAULT, OUTPUT_FORMAT)\n",
        "taiga_pipeline = Pipeline(taiga_model, INPUT_FORMAT,\n",
        "                          Pipeline.DEFAULT, Pipeline.DEFAULT, OUTPUT_FORMAT)\n",
        "\n",
        "error = ProcessingError()"
      ]
    },
    {
      "cell_type": "markdown",
      "metadata": {
        "id": "4rmXlR1ei6bI"
      },
      "source": [
        "Применение собственно цепочки обработки к сырому тексту; вывод в формате CoNLL-U."
      ]
    },
    {
      "cell_type": "code",
      "execution_count": 6,
      "metadata": {
        "id": "MJedzauNi6bJ"
      },
      "outputs": [],
      "source": [
        "def parse_syntax(raw_text, pipeline):\n",
        "    \"\"\" Applying UDPipe \"\"\"\n",
        "    text = raw_text.strip()\n",
        "\n",
        "    # Process data\n",
        "    processed = pipeline.process(text, error)\n",
        "\n",
        "    if error.occurred():\n",
        "        sys.stderr.write(\"An error occurred when running run_udpipe: \")\n",
        "        sys.stderr.write(error.message)\n",
        "        sys.stderr.write(\"\\n\")\n",
        "\n",
        "    return processed"
      ]
    },
    {
      "cell_type": "markdown",
      "metadata": {
        "id": "CHD7DOp3i6bP"
      },
      "source": [
        "Создадим два разбора, которые и будем сравнивать."
      ]
    },
    {
      "cell_type": "code",
      "execution_count": 7,
      "metadata": {
        "id": "svFDIXCli6bS"
      },
      "outputs": [],
      "source": [
        "syntag = parse_syntax(\"Порвались о прибрежные скалы бедные мои зелёные башмачки.\", syntagrus_pipeline)\n",
        "taiga = parse_syntax(\"Порвались о прибрежные скалы бедные мои зелёные башмачки.\", taiga_pipeline)"
      ]
    },
    {
      "cell_type": "markdown",
      "metadata": {
        "id": "9JqN3OWvqbuV"
      },
      "source": [
        "Разбор предложения в текстовом виде будет выглядеть следующим образом:"
      ]
    },
    {
      "cell_type": "code",
      "execution_count": 8,
      "metadata": {
        "colab": {
          "base_uri": "https://localhost:8080/"
        },
        "id": "IciMoyh0qbuW",
        "outputId": "5fc57f67-bb3e-4e68-d1a2-7caac77b68d7"
      },
      "outputs": [
        {
          "output_type": "stream",
          "name": "stdout",
          "text": [
            "# newdoc\n",
            "# newpar\n",
            "# sent_id = 1\n",
            "# text = Порвались о прибрежные скалы бедные мои зелёные башмачки.\n",
            "1\tПорвались\tпорваться\tVERB\t_\tAspect=Perf|Mood=Ind|Number=Plur|Tense=Past|VerbForm=Fin|Voice=Mid\t0\troot\t_\t_\n",
            "2\tо\tо\tADP\t_\t_\t4\tcase\t_\t_\n",
            "3\tприбрежные\tприбрежный\tADJ\t_\tAnimacy=Inan|Case=Acc|Degree=Pos|Number=Plur\t4\tamod\t_\t_\n",
            "4\tскалы\tскала\tNOUN\t_\tAnimacy=Inan|Case=Acc|Gender=Masc|Number=Plur\t1\tobl\t_\t_\n",
            "5\tбедные\tбедный\tADJ\tADJ\tCase=Nom|Degree=Pos|Number=Plur\t8\tamod\t_\t_\n",
            "6\tмои\tмой\tDET\t_\tCase=Nom|Number=Plur\t8\tdet\t_\t_\n",
            "7\tзелёные\tзелёный\tADJ\tADJ\tCase=Nom|Degree=Pos|Number=Plur\t8\tamod\t_\t_\n",
            "8\tбашмачки\tбашмачок\tNOUN\t_\tAnimacy=Inan|Case=Gen|Gender=Fem|Number=Sing\t4\tnmod\t_\tSpaceAfter=No\n",
            "9\t.\t.\tPUNCT\t_\t_\t1\tpunct\t_\tSpacesAfter=\\n\n",
            "\n",
            "\n"
          ]
        }
      ],
      "source": [
        "print(taiga)"
      ]
    },
    {
      "cell_type": "markdown",
      "metadata": {
        "id": "jYKnnwqVqbuZ"
      },
      "source": [
        "Понятно, что в таком виде производить расчеты не очень удобно. Для вычисления LAS и UAS сначала представим деревья разбора в виде графов."
      ]
    },
    {
      "cell_type": "markdown",
      "metadata": {
        "id": "LGkqQEi1qbua"
      },
      "source": [
        "## Графововое представление дерева разбора\n",
        "\n",
        "Методами библиотеки `conllu` превращаем выданный нам udpipe разбор в формате CoNLL-U в дерево, с которым удобно работать.\n",
        "\n",
        "С помощью стандартного обхода в ширину наполняем рёбрами объект Digraph для последующей визуализации дерева с помощью `graphviz`."
      ]
    },
    {
      "cell_type": "code",
      "execution_count": 9,
      "metadata": {
        "id": "jQ6zzoRni6bo"
      },
      "outputs": [],
      "source": [
        "from conllu import parse\n",
        "from graphviz import Digraph\n",
        "\n",
        "def parse_output(conll):\n",
        "    \"\"\"\n",
        "        Preparing the dependency tree for further processing\n",
        "    \"\"\"\n",
        "    sentences = parse(conll)\n",
        "    return [s.to_tree() for s in sentences]\n",
        "\n",
        "\n",
        "class Root(object):\n",
        "    def __init__(self, child):\n",
        "        self.token = {\"form\": \"\", \"id\": 0, \"deprel\": \"root\"}\n",
        "        self.children = [child]\n",
        "\n",
        "def draw_tree(tree):\n",
        "    \"\"\" Drawing a dependency tree for debugging stuff \"\"\"\n",
        "\n",
        "    g = Digraph(format='png')\n",
        "\n",
        "    # a queue for tree traversal\n",
        "    queue = [Root(tree)]\n",
        "\n",
        "    while len(queue) > 0:\n",
        "\n",
        "        head = queue.pop()\n",
        "        head_label = head.token[\"form\"] + \" (%d)\" % head.token[\"id\"]\n",
        "        queue.extend(head.children)\n",
        "\n",
        "        for c in head.children:\n",
        "            c_label = c.token[\"form\"] + \" (%d)\" %    c.token[\"id\"]\n",
        "            g.edge(head_label, c_label, label=c.token[\"deprel\"])\n",
        "\n",
        "    return g"
      ]
    },
    {
      "cell_type": "markdown",
      "metadata": {
        "id": "PGp5oQbUi6cQ"
      },
      "source": [
        "Построим оба дерева"
      ]
    },
    {
      "cell_type": "code",
      "execution_count": 10,
      "metadata": {
        "id": "woGZyXqCqbuf"
      },
      "outputs": [],
      "source": [
        "str_tree = parse_output(syntag.strip())[0]\n",
        "taiga_tree = parse_output(taiga.strip())[0]"
      ]
    },
    {
      "cell_type": "code",
      "execution_count": 11,
      "metadata": {
        "colab": {
          "base_uri": "https://localhost:8080/",
          "height": 428
        },
        "id": "ICivSE4eqbuh",
        "outputId": "8922252d-ba72-4ce6-966d-ef41902c64f5"
      },
      "outputs": [
        {
          "output_type": "execute_result",
          "data": {
            "image/svg+xml": "<?xml version=\"1.0\" encoding=\"UTF-8\" standalone=\"no\"?>\n<!DOCTYPE svg PUBLIC \"-//W3C//DTD SVG 1.1//EN\"\n \"http://www.w3.org/Graphics/SVG/1.1/DTD/svg11.dtd\">\n<!-- Generated by graphviz version 2.43.0 (0)\n -->\n<!-- Title: %3 Pages: 1 -->\n<svg width=\"566pt\" height=\"305pt\"\n viewBox=\"0.00 0.00 565.89 305.00\" xmlns=\"http://www.w3.org/2000/svg\" xmlns:xlink=\"http://www.w3.org/1999/xlink\">\n<g id=\"graph0\" class=\"graph\" transform=\"scale(1 1) rotate(0) translate(4 301)\">\n<title>%3</title>\n<polygon fill=\"white\" stroke=\"transparent\" points=\"-4,4 -4,-301 561.89,-301 561.89,4 -4,4\"/>\n<!--  (0) -->\n<g id=\"node1\" class=\"node\">\n<title> (0)</title>\n<ellipse fill=\"none\" stroke=\"black\" cx=\"339.95\" cy=\"-279\" rx=\"27\" ry=\"18\"/>\n<text text-anchor=\"middle\" x=\"339.95\" y=\"-275.3\" font-family=\"Times,serif\" font-size=\"14.00\"> (0)</text>\n</g>\n<!-- Порвались (1) -->\n<g id=\"node2\" class=\"node\">\n<title>Порвались (1)</title>\n<ellipse fill=\"none\" stroke=\"black\" cx=\"339.95\" cy=\"-192\" rx=\"64.19\" ry=\"18\"/>\n<text text-anchor=\"middle\" x=\"339.95\" y=\"-188.3\" font-family=\"Times,serif\" font-size=\"14.00\">Порвались (1)</text>\n</g>\n<!--  (0)&#45;&gt;Порвались (1) -->\n<g id=\"edge1\" class=\"edge\">\n<title> (0)&#45;&gt;Порвались (1)</title>\n<path fill=\"none\" stroke=\"black\" d=\"M339.95,-260.8C339.95,-249.16 339.95,-233.55 339.95,-220.24\"/>\n<polygon fill=\"black\" stroke=\"black\" points=\"343.45,-220.18 339.95,-210.18 336.45,-220.18 343.45,-220.18\"/>\n<text text-anchor=\"middle\" x=\"350.95\" y=\"-231.8\" font-family=\"Times,serif\" font-size=\"14.00\">root</text>\n</g>\n<!-- скалы (4) -->\n<g id=\"node3\" class=\"node\">\n<title>скалы (4)</title>\n<ellipse fill=\"none\" stroke=\"black\" cx=\"144.95\" cy=\"-105\" rx=\"46.29\" ry=\"18\"/>\n<text text-anchor=\"middle\" x=\"144.95\" y=\"-101.3\" font-family=\"Times,serif\" font-size=\"14.00\">скалы (4)</text>\n</g>\n<!-- Порвались (1)&#45;&gt;скалы (4) -->\n<g id=\"edge2\" class=\"edge\">\n<title>Порвались (1)&#45;&gt;скалы (4)</title>\n<path fill=\"none\" stroke=\"black\" d=\"M306.43,-176.39C272.34,-161.53 219.57,-138.53 183.71,-122.9\"/>\n<polygon fill=\"black\" stroke=\"black\" points=\"185.09,-119.68 174.53,-118.89 182.29,-126.1 185.09,-119.68\"/>\n<text text-anchor=\"middle\" x=\"263.95\" y=\"-144.8\" font-family=\"Times,serif\" font-size=\"14.00\">obl</text>\n</g>\n<!-- башмачки (8) -->\n<g id=\"node4\" class=\"node\">\n<title>башмачки (8)</title>\n<ellipse fill=\"none\" stroke=\"black\" cx=\"339.95\" cy=\"-105\" rx=\"61.99\" ry=\"18\"/>\n<text text-anchor=\"middle\" x=\"339.95\" y=\"-101.3\" font-family=\"Times,serif\" font-size=\"14.00\">башмачки (8)</text>\n</g>\n<!-- Порвались (1)&#45;&gt;башмачки (8) -->\n<g id=\"edge3\" class=\"edge\">\n<title>Порвались (1)&#45;&gt;башмачки (8)</title>\n<path fill=\"none\" stroke=\"black\" d=\"M339.95,-173.8C339.95,-162.16 339.95,-146.55 339.95,-133.24\"/>\n<polygon fill=\"black\" stroke=\"black\" points=\"343.45,-133.18 339.95,-123.18 336.45,-133.18 343.45,-133.18\"/>\n<text text-anchor=\"middle\" x=\"354.95\" y=\"-144.8\" font-family=\"Times,serif\" font-size=\"14.00\">nsubj</text>\n</g>\n<!-- . (9) -->\n<g id=\"node5\" class=\"node\">\n<title>. (9)</title>\n<ellipse fill=\"none\" stroke=\"black\" cx=\"446.95\" cy=\"-105\" rx=\"27\" ry=\"18\"/>\n<text text-anchor=\"middle\" x=\"446.95\" y=\"-101.3\" font-family=\"Times,serif\" font-size=\"14.00\">. (9)</text>\n</g>\n<!-- Порвались (1)&#45;&gt;. (9) -->\n<g id=\"edge4\" class=\"edge\">\n<title>Порвались (1)&#45;&gt;. (9)</title>\n<path fill=\"none\" stroke=\"black\" d=\"M360.33,-174.81C377.97,-160.8 403.53,-140.49 422.31,-125.57\"/>\n<polygon fill=\"black\" stroke=\"black\" points=\"424.51,-128.3 430.16,-119.33 420.15,-122.81 424.51,-128.3\"/>\n<text text-anchor=\"middle\" x=\"415.45\" y=\"-144.8\" font-family=\"Times,serif\" font-size=\"14.00\">punct</text>\n</g>\n<!-- о (2) -->\n<g id=\"node9\" class=\"node\">\n<title>о (2)</title>\n<ellipse fill=\"none\" stroke=\"black\" cx=\"27.95\" cy=\"-18\" rx=\"27.9\" ry=\"18\"/>\n<text text-anchor=\"middle\" x=\"27.95\" y=\"-14.3\" font-family=\"Times,serif\" font-size=\"14.00\">о (2)</text>\n</g>\n<!-- скалы (4)&#45;&gt;о (2) -->\n<g id=\"edge8\" class=\"edge\">\n<title>скалы (4)&#45;&gt;о (2)</title>\n<path fill=\"none\" stroke=\"black\" d=\"M124.03,-88.8C104.5,-74.62 75.29,-53.39 54.2,-38.08\"/>\n<polygon fill=\"black\" stroke=\"black\" points=\"56.15,-35.16 46,-32.11 52.03,-40.82 56.15,-35.16\"/>\n<text text-anchor=\"middle\" x=\"105.95\" y=\"-57.8\" font-family=\"Times,serif\" font-size=\"14.00\">case</text>\n</g>\n<!-- прибрежные (3) -->\n<g id=\"node10\" class=\"node\">\n<title>прибрежные (3)</title>\n<ellipse fill=\"none\" stroke=\"black\" cx=\"144.95\" cy=\"-18\" rx=\"71.49\" ry=\"18\"/>\n<text text-anchor=\"middle\" x=\"144.95\" y=\"-14.3\" font-family=\"Times,serif\" font-size=\"14.00\">прибрежные (3)</text>\n</g>\n<!-- скалы (4)&#45;&gt;прибрежные (3) -->\n<g id=\"edge9\" class=\"edge\">\n<title>скалы (4)&#45;&gt;прибрежные (3)</title>\n<path fill=\"none\" stroke=\"black\" d=\"M144.95,-86.8C144.95,-75.16 144.95,-59.55 144.95,-46.24\"/>\n<polygon fill=\"black\" stroke=\"black\" points=\"148.45,-46.18 144.95,-36.18 141.45,-46.18 148.45,-46.18\"/>\n<text text-anchor=\"middle\" x=\"160.45\" y=\"-57.8\" font-family=\"Times,serif\" font-size=\"14.00\">amod</text>\n</g>\n<!-- бедные (5) -->\n<g id=\"node6\" class=\"node\">\n<title>бедные (5)</title>\n<ellipse fill=\"none\" stroke=\"black\" cx=\"285.95\" cy=\"-18\" rx=\"51.19\" ry=\"18\"/>\n<text text-anchor=\"middle\" x=\"285.95\" y=\"-14.3\" font-family=\"Times,serif\" font-size=\"14.00\">бедные (5)</text>\n</g>\n<!-- башмачки (8)&#45;&gt;бедные (5) -->\n<g id=\"edge5\" class=\"edge\">\n<title>башмачки (8)&#45;&gt;бедные (5)</title>\n<path fill=\"none\" stroke=\"black\" d=\"M329.28,-87.21C321.51,-74.98 310.86,-58.21 302.06,-44.36\"/>\n<polygon fill=\"black\" stroke=\"black\" points=\"304.91,-42.32 296.59,-35.76 299,-46.08 304.91,-42.32\"/>\n<text text-anchor=\"middle\" x=\"332.45\" y=\"-57.8\" font-family=\"Times,serif\" font-size=\"14.00\">amod</text>\n</g>\n<!-- мои (6) -->\n<g id=\"node7\" class=\"node\">\n<title>мои (6)</title>\n<ellipse fill=\"none\" stroke=\"black\" cx=\"393.95\" cy=\"-18\" rx=\"38.19\" ry=\"18\"/>\n<text text-anchor=\"middle\" x=\"393.95\" y=\"-14.3\" font-family=\"Times,serif\" font-size=\"14.00\">мои (6)</text>\n</g>\n<!-- башмачки (8)&#45;&gt;мои (6) -->\n<g id=\"edge6\" class=\"edge\">\n<title>башмачки (8)&#45;&gt;мои (6)</title>\n<path fill=\"none\" stroke=\"black\" d=\"M350.62,-87.21C358.43,-74.9 369.17,-58 378.01,-44.09\"/>\n<polygon fill=\"black\" stroke=\"black\" points=\"381.08,-45.79 383.48,-35.47 375.17,-42.03 381.08,-45.79\"/>\n<text text-anchor=\"middle\" x=\"379.45\" y=\"-57.8\" font-family=\"Times,serif\" font-size=\"14.00\">det</text>\n</g>\n<!-- зелёные (7) -->\n<g id=\"node8\" class=\"node\">\n<title>зелёные (7)</title>\n<ellipse fill=\"none\" stroke=\"black\" cx=\"503.95\" cy=\"-18\" rx=\"53.89\" ry=\"18\"/>\n<text text-anchor=\"middle\" x=\"503.95\" y=\"-14.3\" font-family=\"Times,serif\" font-size=\"14.00\">зелёные (7)</text>\n</g>\n<!-- башмачки (8)&#45;&gt;зелёные (7) -->\n<g id=\"edge7\" class=\"edge\">\n<title>башмачки (8)&#45;&gt;зелёные (7)</title>\n<path fill=\"none\" stroke=\"black\" d=\"M368.89,-89C396.19,-74.85 437.24,-53.58 466.91,-38.2\"/>\n<polygon fill=\"black\" stroke=\"black\" points=\"468.85,-41.13 476.11,-33.43 465.63,-34.92 468.85,-41.13\"/>\n<text text-anchor=\"middle\" x=\"447.45\" y=\"-57.8\" font-family=\"Times,serif\" font-size=\"14.00\">amod</text>\n</g>\n</g>\n</svg>\n",
            "text/plain": [
              "<graphviz.graphs.Digraph at 0x7bad4c32ed40>"
            ]
          },
          "metadata": {},
          "execution_count": 11
        }
      ],
      "source": [
        "draw_tree(str_tree)"
      ]
    },
    {
      "cell_type": "code",
      "execution_count": 12,
      "metadata": {
        "colab": {
          "base_uri": "https://localhost:8080/",
          "height": 544
        },
        "id": "a_8Oxw6Bqbuj",
        "outputId": "660ec78c-25ea-4181-ffe7-19ea38ec66b9"
      },
      "outputs": [
        {
          "output_type": "execute_result",
          "data": {
            "image/svg+xml": "<?xml version=\"1.0\" encoding=\"UTF-8\" standalone=\"no\"?>\n<!DOCTYPE svg PUBLIC \"-//W3C//DTD SVG 1.1//EN\"\n \"http://www.w3.org/Graphics/SVG/1.1/DTD/svg11.dtd\">\n<!-- Generated by graphviz version 2.43.0 (0)\n -->\n<!-- Title: %3 Pages: 1 -->\n<svg width=\"468pt\" height=\"392pt\"\n viewBox=\"0.00 0.00 467.89 392.00\" xmlns=\"http://www.w3.org/2000/svg\" xmlns:xlink=\"http://www.w3.org/1999/xlink\">\n<g id=\"graph0\" class=\"graph\" transform=\"scale(1 1) rotate(0) translate(4 388)\">\n<title>%3</title>\n<polygon fill=\"white\" stroke=\"transparent\" points=\"-4,4 -4,-388 463.89,-388 463.89,4 -4,4\"/>\n<!--  (0) -->\n<g id=\"node1\" class=\"node\">\n<title> (0)</title>\n<ellipse fill=\"none\" stroke=\"black\" cx=\"189.95\" cy=\"-366\" rx=\"27\" ry=\"18\"/>\n<text text-anchor=\"middle\" x=\"189.95\" y=\"-362.3\" font-family=\"Times,serif\" font-size=\"14.00\"> (0)</text>\n</g>\n<!-- Порвались (1) -->\n<g id=\"node2\" class=\"node\">\n<title>Порвались (1)</title>\n<ellipse fill=\"none\" stroke=\"black\" cx=\"189.95\" cy=\"-279\" rx=\"64.19\" ry=\"18\"/>\n<text text-anchor=\"middle\" x=\"189.95\" y=\"-275.3\" font-family=\"Times,serif\" font-size=\"14.00\">Порвались (1)</text>\n</g>\n<!--  (0)&#45;&gt;Порвались (1) -->\n<g id=\"edge1\" class=\"edge\">\n<title> (0)&#45;&gt;Порвались (1)</title>\n<path fill=\"none\" stroke=\"black\" d=\"M189.95,-347.8C189.95,-336.16 189.95,-320.55 189.95,-307.24\"/>\n<polygon fill=\"black\" stroke=\"black\" points=\"193.45,-307.18 189.95,-297.18 186.45,-307.18 193.45,-307.18\"/>\n<text text-anchor=\"middle\" x=\"200.95\" y=\"-318.8\" font-family=\"Times,serif\" font-size=\"14.00\">root</text>\n</g>\n<!-- скалы (4) -->\n<g id=\"node3\" class=\"node\">\n<title>скалы (4)</title>\n<ellipse fill=\"none\" stroke=\"black\" cx=\"144.95\" cy=\"-192\" rx=\"46.29\" ry=\"18\"/>\n<text text-anchor=\"middle\" x=\"144.95\" y=\"-188.3\" font-family=\"Times,serif\" font-size=\"14.00\">скалы (4)</text>\n</g>\n<!-- Порвались (1)&#45;&gt;скалы (4) -->\n<g id=\"edge2\" class=\"edge\">\n<title>Порвались (1)&#45;&gt;скалы (4)</title>\n<path fill=\"none\" stroke=\"black\" d=\"M180.84,-260.8C174.46,-248.74 165.81,-232.4 158.6,-218.79\"/>\n<polygon fill=\"black\" stroke=\"black\" points=\"161.66,-217.09 153.89,-209.89 155.47,-220.36 161.66,-217.09\"/>\n<text text-anchor=\"middle\" x=\"179.95\" y=\"-231.8\" font-family=\"Times,serif\" font-size=\"14.00\">obl</text>\n</g>\n<!-- . (9) -->\n<g id=\"node4\" class=\"node\">\n<title>. (9)</title>\n<ellipse fill=\"none\" stroke=\"black\" cx=\"235.95\" cy=\"-192\" rx=\"27\" ry=\"18\"/>\n<text text-anchor=\"middle\" x=\"235.95\" y=\"-188.3\" font-family=\"Times,serif\" font-size=\"14.00\">. (9)</text>\n</g>\n<!-- Порвались (1)&#45;&gt;. (9) -->\n<g id=\"edge3\" class=\"edge\">\n<title>Порвались (1)&#45;&gt;. (9)</title>\n<path fill=\"none\" stroke=\"black\" d=\"M199.26,-260.8C205.87,-248.58 214.85,-231.98 222.28,-218.26\"/>\n<polygon fill=\"black\" stroke=\"black\" points=\"225.44,-219.77 227.12,-209.31 219.28,-216.44 225.44,-219.77\"/>\n<text text-anchor=\"middle\" x=\"231.45\" y=\"-231.8\" font-family=\"Times,serif\" font-size=\"14.00\">punct</text>\n</g>\n<!-- о (2) -->\n<g id=\"node5\" class=\"node\">\n<title>о (2)</title>\n<ellipse fill=\"none\" stroke=\"black\" cx=\"27.95\" cy=\"-105\" rx=\"27.9\" ry=\"18\"/>\n<text text-anchor=\"middle\" x=\"27.95\" y=\"-101.3\" font-family=\"Times,serif\" font-size=\"14.00\">о (2)</text>\n</g>\n<!-- скалы (4)&#45;&gt;о (2) -->\n<g id=\"edge4\" class=\"edge\">\n<title>скалы (4)&#45;&gt;о (2)</title>\n<path fill=\"none\" stroke=\"black\" d=\"M124.03,-175.8C104.5,-161.62 75.29,-140.39 54.2,-125.08\"/>\n<polygon fill=\"black\" stroke=\"black\" points=\"56.15,-122.16 46,-119.11 52.03,-127.82 56.15,-122.16\"/>\n<text text-anchor=\"middle\" x=\"105.95\" y=\"-144.8\" font-family=\"Times,serif\" font-size=\"14.00\">case</text>\n</g>\n<!-- прибрежные (3) -->\n<g id=\"node6\" class=\"node\">\n<title>прибрежные (3)</title>\n<ellipse fill=\"none\" stroke=\"black\" cx=\"144.95\" cy=\"-105\" rx=\"71.49\" ry=\"18\"/>\n<text text-anchor=\"middle\" x=\"144.95\" y=\"-101.3\" font-family=\"Times,serif\" font-size=\"14.00\">прибрежные (3)</text>\n</g>\n<!-- скалы (4)&#45;&gt;прибрежные (3) -->\n<g id=\"edge5\" class=\"edge\">\n<title>скалы (4)&#45;&gt;прибрежные (3)</title>\n<path fill=\"none\" stroke=\"black\" d=\"M144.95,-173.8C144.95,-162.16 144.95,-146.55 144.95,-133.24\"/>\n<polygon fill=\"black\" stroke=\"black\" points=\"148.45,-133.18 144.95,-123.18 141.45,-133.18 148.45,-133.18\"/>\n<text text-anchor=\"middle\" x=\"160.45\" y=\"-144.8\" font-family=\"Times,serif\" font-size=\"14.00\">amod</text>\n</g>\n<!-- башмачки (8) -->\n<g id=\"node7\" class=\"node\">\n<title>башмачки (8)</title>\n<ellipse fill=\"none\" stroke=\"black\" cx=\"295.95\" cy=\"-105\" rx=\"61.99\" ry=\"18\"/>\n<text text-anchor=\"middle\" x=\"295.95\" y=\"-101.3\" font-family=\"Times,serif\" font-size=\"14.00\">башмачки (8)</text>\n</g>\n<!-- скалы (4)&#45;&gt;башмачки (8) -->\n<g id=\"edge6\" class=\"edge\">\n<title>скалы (4)&#45;&gt;башмачки (8)</title>\n<path fill=\"none\" stroke=\"black\" d=\"M170.22,-176.77C194.74,-162.97 232.18,-141.9 259.83,-126.33\"/>\n<polygon fill=\"black\" stroke=\"black\" points=\"261.81,-129.23 268.8,-121.28 258.37,-123.13 261.81,-129.23\"/>\n<text text-anchor=\"middle\" x=\"245.95\" y=\"-144.8\" font-family=\"Times,serif\" font-size=\"14.00\">nmod</text>\n</g>\n<!-- бедные (5) -->\n<g id=\"node8\" class=\"node\">\n<title>бедные (5)</title>\n<ellipse fill=\"none\" stroke=\"black\" cx=\"187.95\" cy=\"-18\" rx=\"51.19\" ry=\"18\"/>\n<text text-anchor=\"middle\" x=\"187.95\" y=\"-14.3\" font-family=\"Times,serif\" font-size=\"14.00\">бедные (5)</text>\n</g>\n<!-- башмачки (8)&#45;&gt;бедные (5) -->\n<g id=\"edge7\" class=\"edge\">\n<title>башмачки (8)&#45;&gt;бедные (5)</title>\n<path fill=\"none\" stroke=\"black\" d=\"M275.38,-87.81C258.53,-74.55 234.53,-55.66 215.93,-41.03\"/>\n<polygon fill=\"black\" stroke=\"black\" points=\"218.1,-38.27 208.07,-34.84 213.77,-43.77 218.1,-38.27\"/>\n<text text-anchor=\"middle\" x=\"264.45\" y=\"-57.8\" font-family=\"Times,serif\" font-size=\"14.00\">amod</text>\n</g>\n<!-- мои (6) -->\n<g id=\"node9\" class=\"node\">\n<title>мои (6)</title>\n<ellipse fill=\"none\" stroke=\"black\" cx=\"295.95\" cy=\"-18\" rx=\"38.19\" ry=\"18\"/>\n<text text-anchor=\"middle\" x=\"295.95\" y=\"-14.3\" font-family=\"Times,serif\" font-size=\"14.00\">мои (6)</text>\n</g>\n<!-- башмачки (8)&#45;&gt;мои (6) -->\n<g id=\"edge8\" class=\"edge\">\n<title>башмачки (8)&#45;&gt;мои (6)</title>\n<path fill=\"none\" stroke=\"black\" d=\"M295.95,-86.8C295.95,-75.16 295.95,-59.55 295.95,-46.24\"/>\n<polygon fill=\"black\" stroke=\"black\" points=\"299.45,-46.18 295.95,-36.18 292.45,-46.18 299.45,-46.18\"/>\n<text text-anchor=\"middle\" x=\"304.45\" y=\"-57.8\" font-family=\"Times,serif\" font-size=\"14.00\">det</text>\n</g>\n<!-- зелёные (7) -->\n<g id=\"node10\" class=\"node\">\n<title>зелёные (7)</title>\n<ellipse fill=\"none\" stroke=\"black\" cx=\"405.95\" cy=\"-18\" rx=\"53.89\" ry=\"18\"/>\n<text text-anchor=\"middle\" x=\"405.95\" y=\"-14.3\" font-family=\"Times,serif\" font-size=\"14.00\">зелёные (7)</text>\n</g>\n<!-- башмачки (8)&#45;&gt;зелёные (7) -->\n<g id=\"edge9\" class=\"edge\">\n<title>башмачки (8)&#45;&gt;зелёные (7)</title>\n<path fill=\"none\" stroke=\"black\" d=\"M316.64,-88.01C333.77,-74.77 358.29,-55.82 377.31,-41.13\"/>\n<polygon fill=\"black\" stroke=\"black\" points=\"379.58,-43.8 385.35,-34.92 375.3,-38.26 379.58,-43.8\"/>\n<text text-anchor=\"middle\" x=\"373.45\" y=\"-57.8\" font-family=\"Times,serif\" font-size=\"14.00\">amod</text>\n</g>\n</g>\n</svg>\n",
            "text/plain": [
              "<graphviz.graphs.Digraph at 0x7bad4c366a10>"
            ]
          },
          "metadata": {},
          "execution_count": 12
        }
      ],
      "source": [
        "draw_tree(taiga_tree)"
      ]
    },
    {
      "cell_type": "markdown",
      "metadata": {
        "id": "jU8n4urmqbul"
      },
      "source": [
        "Теперь можно переходить к расчету метрик"
      ]
    },
    {
      "cell_type": "markdown",
      "metadata": {
        "id": "VI1qm9bGqbuo"
      },
      "source": [
        "## Вычисление LAS и UAS\n",
        "\n",
        "Для этого набираем множества всех рёбер с метками и без и смотрим на размеры пересечений."
      ]
    },
    {
      "cell_type": "code",
      "execution_count": 13,
      "metadata": {
        "id": "fEetAmXx6wAM"
      },
      "outputs": [],
      "source": [
        "def edges_sets(tree):\n",
        "    \"\"\" Reading edges encoded as strings \"\"\"\n",
        "\n",
        "    edges_labeled = []\n",
        "    edges_unlabeled = []\n",
        "    queue = [Root(tree)]\n",
        "\n",
        "    while len(queue) > 0:\n",
        "        head = queue.pop()\n",
        "        head_label = head.token[\"form\"] + \" (%d)\" % head.token[\"id\"]\n",
        "        queue.extend(head.children)\n",
        "\n",
        "        for c in head.children:\n",
        "            c_label = c.token[\"form\"] + \" (%d)\" %  c.token[\"id\"]\n",
        "            edges_unlabeled.append((head_label, c_label))\n",
        "            edges_labeled.append((head_label, c_label, c.token[\"deprel\"]))\n",
        "\n",
        "    return set(edges_labeled), set(edges_unlabeled)"
      ]
    },
    {
      "cell_type": "code",
      "execution_count": 14,
      "metadata": {
        "colab": {
          "base_uri": "https://localhost:8080/",
          "height": 36
        },
        "id": "SCT4HgK_i6cU",
        "outputId": "65887663-0232-4761-d360-89057420a4ab"
      },
      "outputs": [
        {
          "output_type": "execute_result",
          "data": {
            "text/plain": [
              "'LAS: 0.8889 UAS: 0.8889'"
            ],
            "application/vnd.google.colaboratory.intrinsic+json": {
              "type": "string"
            }
          },
          "metadata": {},
          "execution_count": 14
        }
      ],
      "source": [
        "def accuracy(gold, pred):\n",
        "    gold_labeled, gold_unlabeled = edges_sets(gold)\n",
        "    pred_labeled, pred_unlabeled = edges_sets(pred)\n",
        "\n",
        "    return len(gold_labeled.intersection(pred_labeled)) / len(gold_labeled), \\\n",
        "                len(gold_unlabeled.intersection(pred_unlabeled)) / len(gold_unlabeled)\n",
        "\n",
        "LAS, UAS = accuracy(str_tree, taiga_tree)\n",
        "\"LAS: %.4f UAS: %.4f\" % (LAS, UAS)"
      ]
    },
    {
      "cell_type": "markdown",
      "metadata": {
        "id": "XPsQ9gBtrKVL"
      },
      "source": [
        "Можно заметить, что в первом случае слово <code>башмачки</code> зависит от слова <code>порвались</code>, а во втором -- от слова <code>скалы</code>.\n",
        "Отдельно хотим напомнить, что таким образом корректно сравнивать парсеры только в том случае, когда токензация полностью совпадает."
      ]
    },
    {
      "cell_type": "markdown",
      "metadata": {
        "id": "n08jVsZwu_5R"
      },
      "source": [
        "## Вычисление глубины дерева"
      ]
    },
    {
      "cell_type": "markdown",
      "metadata": {
        "id": "B9LoRI_Hu_5R"
      },
      "source": [
        "Вычислим глубину дерева, например, для разбора модели taiga (ребро root не учитывается).\n",
        "\n",
        "Для этого также можно использовать, например, обход в ширину."
      ]
    },
    {
      "cell_type": "code",
      "execution_count": 15,
      "metadata": {
        "id": "_WKDvvPxi6cX",
        "colab": {
          "base_uri": "https://localhost:8080/"
        },
        "outputId": "899ae18e-cdbb-46ea-8286-661e8da9a24e"
      },
      "outputs": [
        {
          "output_type": "stream",
          "name": "stdout",
          "text": [
            "checking Порвались\n",
            "checking скалы\n",
            "checking .\n",
            "checking о\n",
            "checking прибрежные\n",
            "checking башмачки\n",
            "checking бедные\n",
            "checking мои\n",
            "checking зелёные\n",
            "Глубина дерева:  3\n"
          ]
        }
      ],
      "source": [
        "depth = 0\n",
        "queue = [(taiga_tree, depth)]\n",
        "\n",
        "while len(queue) > 0:\n",
        "    head, depth = queue.pop(0)\n",
        "    queue.extend([(c, depth + 1) for c in head.children])\n",
        "    print(\"checking\", head.token[\"form\"])\n",
        "\n",
        "print(\"Глубина дерева: \", depth)"
      ]
    },
    {
      "cell_type": "markdown",
      "source": [
        "# Индивидуальное задание"
      ],
      "metadata": {
        "id": "lXhnLux3TEtd"
      }
    },
    {
      "cell_type": "markdown",
      "source": [
        "Выполните синтаксический разбор следующих предложений при помощи UDpipe моделей SynTagRus и Taiga. Постройте дерево разбора, вычислите метрики UAS и LAS, а также определите глубину полученных деревьев.\n",
        "\n",
        "1. Предложение: `Зачем Украине астрономия, тем более наблюдательная?`\n",
        "\n",
        "    _Введите UAS. Десятичный разделитель точка. Ответ округлите до тысячных:_\n",
        "    ```\n",
        "    0.250\n",
        "    ```\n",
        "    _Введите LAS. Десятичный разделитель точка. Ответ округлите до тысячных:_\n",
        "    ```\n",
        "    0.000\n",
        "    ```\n",
        "    _Введите наибольшую из полученных глубин для двух разборов. Целое число:_\n",
        "    ```\n",
        "    3\n",
        "    ```\n",
        "2. Предложение: `Больная не проявила интереса к этим фотографиям.`\n",
        "\n",
        "    _Введите UAS. Десятичный разделитель точка. Ответ округлите до тысячных:_\n",
        "    ```\n",
        "    1.000\n",
        "    ```\n",
        "    _Введите LAS. Десятичный разделитель точка. Ответ округлите до тысячных:_\n",
        "    ```\n",
        "    0.875\n",
        "    ```\n",
        "    _Введите наибольшую из полученных глубин для двух разборов. Целое число:_\n",
        "    ```\n",
        "    2\n",
        "    ```\n",
        "3. Предложение: `Внучка — ренегатка-наследница — совсем неубедительный персонаж.`\n",
        "\n",
        "    _Введите UAS. Десятичный разделитель точка. Ответ округлите до тысячных:_\n",
        "    ```\n",
        "    0.400\n",
        "    ```\n",
        "    _Введите LAS. Десятичный разделитель точка. Ответ округлите до тысячных:_\n",
        "    ```\n",
        "    0.300\n",
        "    ```\n",
        "    _Введите наибольшую из полученных глубин для двух разборов. Целое число:_\n",
        "    ```\n",
        "    3\n",
        "    ```\n",
        "\n"
      ],
      "metadata": {
        "id": "3_lpasyCJNt3"
      }
    },
    {
      "cell_type": "markdown",
      "source": [
        "![image.png](data:image/png;base64,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)"
      ],
      "metadata": {
        "id": "I2NT9rZ_JN2o"
      }
    },
    {
      "cell_type": "code",
      "execution_count": 16,
      "metadata": {
        "id": "45zc-ojN5uph"
      },
      "outputs": [],
      "source": [
        "sentences = [\n",
        "    \"Зачем Украине астрономия, тем более наблюдательная?\",\n",
        "    \"Больная не проявила интереса к этим фотографиям.\",\n",
        "    \"Внучка — ренегатка-наследница — совсем неубедительный персонаж.\"\n",
        "]"
      ]
    },
    {
      "cell_type": "code",
      "source": [
        "def calculate_depth(tree):\n",
        "    \"\"\"Вычисляет глубину дерева, используя обход в ширину\"\"\"\n",
        "    depth = 0\n",
        "    queue = [(tree, depth)]\n",
        "\n",
        "    while len(queue) > 0:\n",
        "        node, depth = queue.pop(0)\n",
        "        queue.extend([(child, depth + 1) for child in node.children])\n",
        "\n",
        "    return depth"
      ],
      "metadata": {
        "id": "tnCelcABv-9r"
      },
      "execution_count": 17,
      "outputs": []
    },
    {
      "cell_type": "code",
      "source": [
        "for i, sentence in enumerate(sentences):\n",
        "    print(f\"Предложение {i+1}: {sentence}\")\n",
        "\n",
        "    # Проведем синтаксический разбор для каждой модели\n",
        "    syntag = parse_syntax(sentence, syntagrus_pipeline)\n",
        "    taiga = parse_syntax(sentence, taiga_pipeline)\n",
        "\n",
        "    str_tree = parse_output(syntag.strip())[0]\n",
        "    taiga_tree = parse_output(taiga.strip())[0]\n",
        "\n",
        "    # Вычислим метрики UAS и LAS\n",
        "    LAS, UAS = accuracy(str_tree, taiga_tree)\n",
        "    print(f\"LAS: {LAS:.3f}, UAS: {UAS:.3f}\")\n",
        "\n",
        "    # Вычислим глубину деревьев\n",
        "    depth_str = calculate_depth(str_tree)\n",
        "    depth_taiga = calculate_depth(taiga_tree)\n",
        "    print(f\"Глубина дерева (SynTagRus): {depth_str}\")\n",
        "    print(f\"Глубина дерева (Taiga): {depth_taiga}\")\n",
        "    print(\"\\n\")"
      ],
      "metadata": {
        "colab": {
          "base_uri": "https://localhost:8080/"
        },
        "id": "iG3MaENCwBV-",
        "outputId": "465ee6e7-28d4-4a52-b97d-c2108f27541c"
      },
      "execution_count": 18,
      "outputs": [
        {
          "output_type": "stream",
          "name": "stdout",
          "text": [
            "Предложение 1: Зачем Украине астрономия, тем более наблюдательная?\n",
            "LAS: 0.000, UAS: 0.250\n",
            "Глубина дерева (SynTagRus): 3\n",
            "Глубина дерева (Taiga): 3\n",
            "\n",
            "\n",
            "Предложение 2: Больная не проявила интереса к этим фотографиям.\n",
            "LAS: 0.875, UAS: 1.000\n",
            "Глубина дерева (SynTagRus): 2\n",
            "Глубина дерева (Taiga): 2\n",
            "\n",
            "\n",
            "Предложение 3: Внучка — ренегатка-наследница — совсем неубедительный персонаж.\n",
            "LAS: 0.300, UAS: 0.400\n",
            "Глубина дерева (SynTagRus): 3\n",
            "Глубина дерева (Taiga): 3\n",
            "\n",
            "\n"
          ]
        }
      ]
    },
    {
      "cell_type": "code",
      "source": [],
      "metadata": {
        "id": "NbPnsSkxTJEC"
      },
      "execution_count": 18,
      "outputs": []
    }
  ],
  "metadata": {
    "colab": {
      "provenance": []
    },
    "kernelspec": {
      "display_name": "Python 3",
      "language": "python",
      "name": "python3"
    },
    "language_info": {
      "codemirror_mode": {
        "name": "ipython",
        "version": 3
      },
      "file_extension": ".py",
      "mimetype": "text/x-python",
      "name": "python",
      "nbconvert_exporter": "python",
      "pygments_lexer": "ipython3",
      "version": "3.7.6"
    }
  },
  "nbformat": 4,
  "nbformat_minor": 0
}